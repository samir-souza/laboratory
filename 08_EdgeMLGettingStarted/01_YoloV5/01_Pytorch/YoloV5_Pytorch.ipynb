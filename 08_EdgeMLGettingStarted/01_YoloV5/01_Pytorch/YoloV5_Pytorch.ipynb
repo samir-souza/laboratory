{
 "cells": [
  {
   "cell_type": "markdown",
   "id": "improved-douglas",
   "metadata": {},
   "source": [
    "# Train Yolov5 Pytorch 1.7 for Edge Devices with Amazon SageMaker\n",
    "\n",
    "With this notebook you'll train a **Yolov5** model with Amazon SageMaker and then, optimize it for Jetson Xavier.\n"
   ]
  },
  {
   "cell_type": "code",
   "execution_count": null,
   "id": "baking-sender",
   "metadata": {},
   "outputs": [],
   "source": [
    "import sagemaker\n",
    "import numpy as np\n",
    "import glob\n",
    "from sagemaker.pytorch.estimator import PyTorch\n",
    "\n",
    "role = sagemaker.get_execution_role()\n",
    "sagemaker_session=sagemaker.Session()\n",
    "bucket_name = sagemaker_session.default_bucket()"
   ]
  },
  {
   "cell_type": "markdown",
   "id": "optical-middle",
   "metadata": {},
   "source": [
    "### Download the official Yolov5 repo - version 5.0"
   ]
  },
  {
   "cell_type": "code",
   "execution_count": null,
   "id": "compact-genius",
   "metadata": {},
   "outputs": [],
   "source": [
    "!rm -rf yolov5\n",
    "!git clone https://github.com/ultralytics/yolov5 && cd yolov5 && git checkout v5.0\n",
    "!echo 'tensorboard' > yolov5/requirements.txt\n",
    "!echo 'seaborn' >> yolov5/requirements.txt"
   ]
  },
  {
   "cell_type": "markdown",
   "id": "informational-formula",
   "metadata": {},
   "source": [
    "### Prepare a Python script that will be the entrypoint of the training process\n",
    "This script will wrap the original training scripts and expose the parameters to SageMaker Estimator"
   ]
  },
  {
   "cell_type": "code",
   "execution_count": null,
   "id": "indoor-recipe",
   "metadata": {},
   "outputs": [],
   "source": [
    "%%writefile yolov5/sagemaker_train.py\n",
    "import sys\n",
    "import subprocess\n",
    "## We need to remove smdebug to avoid the Hook bug https://github.com/awslabs/sagemaker-debugger/issues/401\n",
    "subprocess.check_call([sys.executable, \"-m\", \"pip\", \"uninstall\", \"-y\", \"smdebug\"])\n",
    "import os\n",
    "import yaml\n",
    "import argparse\n",
    "import torch\n",
    "import shutil\n",
    "\n",
    "if __name__ == '__main__':\n",
    "    os.environ['WANDB_MODE'] = 'disabled' # disable weights and bias    \n",
    "        \n",
    "    parser = argparse.ArgumentParser()\n",
    "    \n",
    "    parser.add_argument('--num-classes', type=int, default=80, help='Number of classes')\n",
    "    parser.add_argument('--img-size', type=int, default=640, help='Size of the image')\n",
    "    parser.add_argument('--epochs', type=int, default=1, help='Number of epochs')\n",
    "    parser.add_argument('--batch-size', type=int, default=16, help='Batch size')\n",
    "    \n",
    "    parser.add_argument('--model-dir', type=str, default=os.environ[\"SM_MODEL_DIR\"], help='Trained model dir')\n",
    "    parser.add_argument('--train', type=str, default=os.environ[\"SM_CHANNEL_TRAIN\"], help='Train path')\n",
    "    parser.add_argument('--validation', type=str, default=os.environ[\"SM_CHANNEL_VALIDATION\"], help='Validation path')\n",
    "    \n",
    "    parser.add_argument('--model-type', type=str, choices=['s', 'm', 'l', 'x', 's6', 'm6', 'l6', 'x6'], default=\"s\", help='Model type')\n",
    "    \n",
    "    # hyperparameters\n",
    "    parser.add_argument('--lr0', type=float, default=0.01)\n",
    "    parser.add_argument('--lrf', type=float, default=0.2)\n",
    "    parser.add_argument('--momentum', type=float, default=0.937)\n",
    "    parser.add_argument('--weight-decay', type=float, default=0.0005)\n",
    "    parser.add_argument('--warmup-epochs', type=float, default=3.0)\n",
    "    parser.add_argument('--warmup-momentum', type=float, default=0.8)\n",
    "    parser.add_argument('--warmup-bias_lr', type=float, default=0.1)\n",
    "    parser.add_argument('--box', type=float, default=0.05)\n",
    "    parser.add_argument('--cls', type=float, default=0.5)\n",
    "    parser.add_argument('--cls-pw', type=float, default=1.0)\n",
    "    parser.add_argument('--obj', type=float, default=1.0)\n",
    "    parser.add_argument('--obj-pw', type=float, default=1.0)\n",
    "    parser.add_argument('--iou-t', type=float, default=0.2)\n",
    "    parser.add_argument('--anchor-t', type=float, default=4.0)\n",
    "    parser.add_argument('--fl-gamma', type=float, default=0.0)\n",
    "    parser.add_argument('--hsv-h', type=float, default=0.015)\n",
    "    parser.add_argument('--hsv-s', type=float, default=0.7)\n",
    "    parser.add_argument('--hsv-v', type=float, default=0.4)\n",
    "    parser.add_argument('--degrees', type=float, default=0.0)\n",
    "    parser.add_argument('--translate', type=float, default=0.1)\n",
    "    parser.add_argument('--scale', type=float, default=0.5)\n",
    "    parser.add_argument('--shear', type=float, default=0.0)\n",
    "    parser.add_argument('--perspective', type=float, default=0.0)\n",
    "    parser.add_argument('--flipud', type=float, default=0.0)\n",
    "    parser.add_argument('--fliplr', type=float, default=0.5)\n",
    "    parser.add_argument('--mosaic', type=float, default=1.0)\n",
    "    parser.add_argument('--mixup', type=float, default=0.0)\n",
    "    \n",
    "    args,unknown = parser.parse_known_args()\n",
    "    \n",
    "    base_path=os.path.dirname(__file__)\n",
    "    project_dir = os.environ[\"SM_OUTPUT_DATA_DIR\"]\n",
    "    hyperparams = [\n",
    "        'lr0', 'lrf', 'momentum', 'weight_decay', 'warmup_epochs', 'warmup_momentum', \n",
    "        'warmup_bias_lr', 'box', 'cls', 'cls_pw', 'obj', 'obj_pw', 'iou_t', 'anchor_t', \n",
    "        'fl_gamma', 'hsv_h', 'hsv_s', 'hsv_v', 'degrees', 'translate', 'scale', 'shear', \n",
    "        'perspective', 'flipud', 'fliplr', 'mosaic', 'mixup'\n",
    "    ]\n",
    "    # prepare the hyperparameters metadat\n",
    "    with open(os.path.join(base_path,'data', 'hyp.custom.yaml'), 'w' ) as y:\n",
    "        y.write(yaml.dump({h:vars(args)[h] for h in hyperparams}))\n",
    "    # prepare the training data metadata\n",
    "    with open(os.path.join(base_path,'data', 'custom.yaml'), 'w') as y:\n",
    "        y.write(yaml.dump({            \n",
    "            'names': [f'class_{i}' for i in range(args.num_classes)],\n",
    "            'train': args.train,\n",
    "            'val': args.validation,\n",
    "            'nc': args.num_classes\n",
    "        }))\n",
    "    # run the training script\n",
    "    train_cmd = [\n",
    "        sys.executable, os.path.join(base_path,'train.py'),\n",
    "        \"--data\", \"custom.yaml\",\n",
    "        \"--weights\", f\"yolov5{args.model_type}.pt\",\n",
    "        \"--img\", str(args.img_size),\n",
    "        \"--batch\", str(args.batch_size),\n",
    "        \"--epochs\", str(args.epochs),\n",
    "        \"--project\", project_dir\n",
    "    ]\n",
    "    subprocess.check_call(train_cmd)\n",
    "    # run the export script\n",
    "    export_cmd = [\n",
    "        sys.executable, os.path.join(base_path,'models', 'export.py'),\n",
    "        \"--weights\", os.path.join(project_dir, 'exp', 'weights', 'best.pt'),\n",
    "        \"--batch-size\", \"1\",\n",
    "        \"--img-size\", str(args.img_size)\n",
    "    ]\n",
    "    subprocess.check_call(export_cmd)\n",
    "    shutil.copyfile( \n",
    "        os.path.join(project_dir, 'exp', 'weights', 'best.torchscript.pt'),\n",
    "        os.path.join(args.model_dir, 'model.pth')\n",
    "    )"
   ]
  },
  {
   "cell_type": "markdown",
   "id": "appointed-centre",
   "metadata": {},
   "source": [
    "## Preparing the dataset\n",
    "Here you'll download a sample dataset coco128. You can also replace this step with your own dataset. Just take a look on the labels format and create your dataset scructure following the same standard (COCO)."
   ]
  },
  {
   "cell_type": "code",
   "execution_count": null,
   "id": "brown-level",
   "metadata": {},
   "outputs": [],
   "source": [
    "import os\n",
    "if not os.path.exists('coco128'):\n",
    "    !wget -q https://github.com/ultralytics/yolov5/releases/download/v1.0/coco128.zip\n",
    "    !unzip -q coco128.zip && rm -f coco128.zip\n",
    "print('BBoxes annotation')\n",
    "print('class x_center y_center width height')\n",
    "!head coco128/labels/train2017/000000000009.txt"
   ]
  },
  {
   "cell_type": "markdown",
   "id": "recognized-change",
   "metadata": {},
   "source": [
    "### Upload the dataset to S3"
   ]
  },
  {
   "cell_type": "code",
   "execution_count": null,
   "id": "second-orange",
   "metadata": {},
   "outputs": [],
   "source": [
    "prefix='data/coco128'\n",
    "!rm -f coco128/labels/train2017.cache\n",
    "train_path = sagemaker_session.upload_data('coco128', key_prefix=f'{prefix}/train')\n",
    "val_path = sagemaker_session.upload_data('coco128', key_prefix=f'{prefix}/val')\n",
    "print(train_path, val_path)"
   ]
  },
  {
   "cell_type": "markdown",
   "id": "alert-position",
   "metadata": {},
   "source": [
    "### Prepare the SageMaker Estimator to train the model"
   ]
  },
  {
   "cell_type": "code",
   "execution_count": null,
   "id": "roman-playlist",
   "metadata": {},
   "outputs": [],
   "source": [
    "estimator = PyTorch(\n",
    "    'sagemaker_train.py',\n",
    "    source_dir='yolov5',\n",
    "    framework_version='1.7',\n",
    "    role=role,\n",
    "    sagemaker_session=sagemaker_session,\n",
    "    instance_type='ml.p3.2xlarge',    \n",
    "    instance_count=1,\n",
    "    py_version='py3', \n",
    "    hyperparameters={\n",
    "        'epochs': 250,\n",
    "        'batch-size': 16,\n",
    "        'lr0': 0.0001,\n",
    "        'num-classes': 80,\n",
    "        'model-type': 's' # s=small,m=medium,l=large,x=xlarge, s6,m6,l6,x6\n",
    "    }\n",
    ")"
   ]
  },
  {
   "cell_type": "code",
   "execution_count": null,
   "id": "bearing-vegetable",
   "metadata": {},
   "outputs": [],
   "source": [
    "estimator.fit({'train': train_path, 'validation': val_path})"
   ]
  },
  {
   "cell_type": "markdown",
   "id": "operating-assets",
   "metadata": {},
   "source": [
    "## Compile your trained model for the edge device\n",
    "In this case, you will compile a model for Jetson Xavier Jetpack 4.4.1. Just change the parameters bellow to adjust the target to your own edge device."
   ]
  },
  {
   "cell_type": "code",
   "execution_count": null,
   "id": "scientific-comparative",
   "metadata": {},
   "outputs": [],
   "source": [
    "import time\n",
    "import boto3\n",
    "sm_client = boto3.client('sagemaker')\n",
    "compilation_job_name = 'yolov5-pytorch-%d' % int(time.time()*1000)\n",
    "sm_client.create_compilation_job(\n",
    "    CompilationJobName=compilation_job_name,\n",
    "    RoleArn=role,\n",
    "    InputConfig={\n",
    "        'S3Uri': '%s%s/output/model.tar.gz' % (estimator.output_path, estimator.latest_training_job.name),\n",
    "        'DataInputConfig': '{\"input\":[1,3,640,640]}',\n",
    "        'Framework': 'PYTORCH'\n",
    "    },\n",
    "    OutputConfig={\n",
    "        'S3OutputLocation': 's3://%s/yolov5-pytorch/optimized/' % sagemaker_session.default_bucket(),\n",
    "        'TargetPlatform': { \n",
    "            'Os': 'LINUX', \n",
    "            'Arch': 'ARM64', # change this to X86_64 if you need\n",
    "            'Accelerator': 'NVIDIA'  # comment this if you don't have an Nvidia GPU\n",
    "        },\n",
    "        # Comment or change the following line depending on your edge device\n",
    "        'CompilerOptions': '{\"trt-ver\": \"7.1.3\", \"cuda-ver\": \"10.2\", \"gpu-code\": \"sm_72\"}' # Jetpack 4.4.1\n",
    "    },\n",
    "    StoppingCondition={ 'MaxRuntimeInSeconds': 900 }\n",
    ")\n",
    "while True:\n",
    "    resp = sm_client.describe_compilation_job(CompilationJobName=compilation_job_name)    \n",
    "    if resp['CompilationJobStatus'] in ['STARTING', 'INPROGRESS']:\n",
    "        print('Running...')\n",
    "    else:\n",
    "        print(resp['CompilationJobStatus'], compilation_job_name)\n",
    "        break\n",
    "    time.sleep(5)\n"
   ]
  },
  {
   "cell_type": "markdown",
   "id": "roman-savage",
   "metadata": {},
   "source": [
    "## Finally create a SageMaker Edge Manager packaging job"
   ]
  },
  {
   "cell_type": "code",
   "execution_count": null,
   "id": "beneficial-complement",
   "metadata": {},
   "outputs": [],
   "source": [
    "import time\n",
    "model_version = '1.0'\n",
    "model_name = 'yolov5'\n",
    "edge_packaging_job_name='yolov5-pytorch-%d' % int(time.time()*1000)\n",
    "resp = sm_client.create_edge_packaging_job(\n",
    "    EdgePackagingJobName=edge_packaging_job_name,\n",
    "    CompilationJobName=compilation_job_name,\n",
    "    ModelName=model_name,\n",
    "    ModelVersion=model_version,\n",
    "    RoleArn=role,\n",
    "    OutputConfig={\n",
    "        'S3OutputLocation': 's3://%s/%s/model/' % (bucket_name, prefix)\n",
    "    }\n",
    ")\n",
    "while True:\n",
    "    resp = sm_client.describe_edge_packaging_job(EdgePackagingJobName=edge_packaging_job_name)    \n",
    "    if resp['EdgePackagingJobStatus'] in ['STARTING', 'INPROGRESS']:\n",
    "        print('Running...')\n",
    "    else:\n",
    "        print(resp['EdgePackagingJobStatus'], compilation_job_name)\n",
    "        break\n",
    "    time.sleep(5)"
   ]
  },
  {
   "cell_type": "code",
   "execution_count": null,
   "id": "external-berry",
   "metadata": {},
   "outputs": [],
   "source": []
  }
 ],
 "metadata": {
  "kernelspec": {
   "display_name": "conda_pytorch_p36",
   "language": "python",
   "name": "conda_pytorch_p36"
  },
  "language_info": {
   "codemirror_mode": {
    "name": "ipython",
    "version": 3
   },
   "file_extension": ".py",
   "mimetype": "text/x-python",
   "name": "python",
   "nbconvert_exporter": "python",
   "pygments_lexer": "ipython3",
   "version": "3.6.13"
  }
 },
 "nbformat": 4,
 "nbformat_minor": 5
}
