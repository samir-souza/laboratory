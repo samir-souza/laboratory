{
 "cells": [
  {
   "cell_type": "markdown",
   "metadata": {},
   "source": [
    "## Now we need to download and prepare the dataset for Darknet YoloV2\n",
    "\n",
    "### 1.0) Download the dataset (Openlogo)"
   ]
  },
  {
   "cell_type": "code",
   "execution_count": null,
   "metadata": {},
   "outputs": [],
   "source": [
    "import os\n",
    "if not os.path.isdir('openlogo'):\n",
    "    !aws s3 cp s3://spock.cloud/datasets/logo/openlogo.tar .\n",
    "    !tar -xf openlogo.tar\n",
    "    !rm -f openlogo.tar"
   ]
  },
  {
   "cell_type": "markdown",
   "metadata": {},
   "source": [
    "### 1.1) Now, let's convert the dataset annotation to the Darknet format\n",
    "\n",
    "For object detection, Darknet expects that you create a .txt file for each image with the following content:  \n",
    "**class_id normalized_bbox_x normalized_bbox_y normalized_bbox_width normalized_bbox_height**  \n",
    "Ex.  \n",
    "261 0.563636 0.441270 0.154545 0.180952\n",
    "\n",
    "After that, we need to create three more files:\n",
    "  - **train.txt** and **test.txt**: contains a list of relative paths for all the images\n",
    "  - **label.names**: list (one name per line) of all the class names"
   ]
  },
  {
   "cell_type": "code",
   "execution_count": null,
   "metadata": {},
   "outputs": [],
   "source": [
    "!mkdir -p input/data input/assets"
   ]
  },
  {
   "cell_type": "code",
   "execution_count": null,
   "metadata": {},
   "outputs": [],
   "source": [
    "from shutil import copyfile\n",
    "\n",
    "def process_images(X, y, target):\n",
    "    for sample,class_id in zip(X,y):\n",
    "        filename,xmin,xmax,ymin,ymax = sample\n",
    "        path = os.path.join('openlogo', 'JPEGImages', filename)\n",
    "        copyfile(path, os.path.join('input', 'data', target, filename))\n",
    "        with open(os.path.join('input', 'data', target, filename.replace('jpg', 'txt') ), 'w') as f:\n",
    "            f.write(\"%d %f %f %f %f\\n\" % (class_id, xmin, xmax, ymin, ymax))"
   ]
  },
  {
   "cell_type": "code",
   "execution_count": null,
   "metadata": {},
   "outputs": [],
   "source": [
    "%%time\n",
    "import glob\n",
    "from lxml import etree\n",
    "from sklearn.model_selection import train_test_split\n",
    "\n",
    "classes = {}\n",
    "X = []\n",
    "y = []\n",
    "annotations = glob.glob(\"openlogo/Annotations/*.xml\")\n",
    "for i,f in enumerate(annotations):\n",
    "    annotation = etree.ElementTree()\n",
    "    annotation.parse(f)\n",
    "    \n",
    "    #for annotation in tree.xpath('//annotation'):\n",
    "    try:\n",
    "        filename = annotation.xpath('//filename/text()')[0].strip()\n",
    "        name = annotation.xpath('//object/name/text()')[0].strip()\n",
    "        width = int(annotation.xpath('//width/text()')[0].strip())\n",
    "        height = int(annotation.xpath('//height/text()')[0].strip())\n",
    "        depth = int(annotation.xpath('//depth/text()')[0].strip())\n",
    "        xmin = int(annotation.xpath('//xmin/text()')[0].strip())\n",
    "        ymin = int(annotation.xpath('//ymin/text()')[0].strip())\n",
    "        xmax = int(annotation.xpath('//xmax/text()')[0].strip())\n",
    "        ymax = int(annotation.xpath('//ymax/text()')[0].strip())\n",
    "        \n",
    "        path = os.path.join('openlogo', 'JPEGImages', filename)\n",
    "        if not os.path.isfile(path ):\n",
    "            raise Exception( \"%s is not a valid file: \" % path)\n",
    "        \n",
    "        class_id = classes[name] = len(classes) if classes.get(name) is None else classes[name]\n",
    "        \n",
    "        X.append([filename, xmin/width, ymin/height, (xmax-xmin)/width, (ymax-ymin)/height ])            \n",
    "        y.append(class_id)\n",
    "    except Exception as e:\n",
    "        print(e)\n",
    "X_train, X_test, y_train, y_test = train_test_split(X, y, test_size=0.33, random_state=42)"
   ]
  },
  {
   "cell_type": "code",
   "execution_count": null,
   "metadata": {},
   "outputs": [],
   "source": [
    "%%time\n",
    "process_images(X_train, y_train, 'training')"
   ]
  },
  {
   "cell_type": "code",
   "execution_count": null,
   "metadata": {},
   "outputs": [],
   "source": [
    "%%time\n",
    "process_images(X_test, y_test, 'testing')"
   ]
  },
  {
   "cell_type": "markdown",
   "metadata": {},
   "source": [
    "### 1.2) Now, we can create the labels file and the descriptors for training/testing"
   ]
  },
  {
   "cell_type": "code",
   "execution_count": null,
   "metadata": {},
   "outputs": [],
   "source": [
    "with open('input/assets/label.names', 'w') as l:\n",
    "    [l.write(\"%s\\n\" % k) for k in sorted(classes, key=classes.get)]\n",
    "\n",
    "!find input/data/training -name *.jpg -printf '%P\\n' > input/data/training/train.txt\n",
    "!find input/data/testing -name *.jpg -printf '%P\\n' > input/data/testing/test.txt\n",
    "!wc -l input/data/training/train.txt\n",
    "!wc -l input/data/testing/test.txt\n",
    "!wc -l input/assets/label.names"
   ]
  },
  {
   "cell_type": "markdown",
   "metadata": {},
   "source": [
    "## 2.0) Upload the dataset to S3\n",
    "Here we'll use **sync** given it uses parallel uploads.  \n",
    "**CHANGE the variable 'bucket' to another bucket, if you wish**"
   ]
  },
  {
   "cell_type": "code",
   "execution_count": null,
   "metadata": {},
   "outputs": [],
   "source": [
    "import sagemaker\n",
    "\n",
    "sagemaker_session = sagemaker.Session()\n",
    "bucket = sagemaker_session.default_bucket()\n",
    "prefix = 'logo'\n",
    "print(bucket)"
   ]
  },
  {
   "cell_type": "code",
   "execution_count": null,
   "metadata": {},
   "outputs": [],
   "source": [
    "!aws s3 sync --quiet input/data/training s3://$bucket/$prefix/input/training"
   ]
  },
  {
   "cell_type": "code",
   "execution_count": null,
   "metadata": {},
   "outputs": [],
   "source": [
    "!aws s3 sync --quiet input/data/testing s3://$bucket/$prefix/input/testing"
   ]
  }
 ],
 "metadata": {
  "kernelspec": {
   "display_name": "conda_python3",
   "language": "python",
   "name": "conda_python3"
  },
  "language_info": {
   "codemirror_mode": {
    "name": "ipython",
    "version": 3
   },
   "file_extension": ".py",
   "mimetype": "text/x-python",
   "name": "python",
   "nbconvert_exporter": "python",
   "pygments_lexer": "ipython3",
   "version": "3.6.5"
  }
 },
 "nbformat": 4,
 "nbformat_minor": 2
}
