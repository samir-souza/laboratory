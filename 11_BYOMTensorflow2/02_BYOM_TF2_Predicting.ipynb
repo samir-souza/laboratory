{
 "cells": [
  {
   "cell_type": "code",
   "execution_count": 2,
   "metadata": {},
   "outputs": [],
   "source": [
    "import numpy as np\n",
    "import matplotlib.pyplot as plt\n",
    "import sagemaker\n",
    "from sagemaker.local import LocalSession\n",
    "\n",
    "#sagemaker_session = LocalSession()\n",
    "#sagemaker_session.config = {'local': {'local_code': True}}\n",
    "sagemaker_session=sagemaker.Session()\n",
    "\n",
    "role = sagemaker.get_execution_role()\n",
    "bucket_name = sagemaker_session.default_bucket()\n",
    "prefix='sine'"
   ]
  },
  {
   "cell_type": "markdown",
   "metadata": {},
   "source": [
    "## 1) First, lets create a custom entrypoint to define different encoding/decoding types"
   ]
  },
  {
   "cell_type": "code",
   "execution_count": 48,
   "metadata": {},
   "outputs": [
    {
     "name": "stdout",
     "output_type": "stream",
     "text": [
      "Overwriting inference.py\n"
     ]
    }
   ],
   "source": [
    "%%writefile inference.py\n",
    "import json\n",
    "import requests\n",
    "\n",
    "def handler(data, context):\n",
    "    \"\"\"Handle request.\n",
    "    Args:\n",
    "        data (obj): the request data\n",
    "        context (Context): an object containing request and configuration details\n",
    "    Returns:\n",
    "        (bytes, string): data to return to client, (optional) response content type\n",
    "    \"\"\"\n",
    "    processed_input,ids = _process_input(data, context)\n",
    "    # Here we're using the HTTP endpoint. It requires JSON format\n",
    "    # based on the TF standards: https://www.tensorflow.org/tfx/serving/api_rest#predict_api\n",
    "    # If you need more performance, try the grpc_uri protocol instead    \n",
    "    response = requests.post(context.rest_uri, data=processed_input)\n",
    "    return _process_output(response, context, ids)\n",
    "\n",
    "\n",
    "def _process_input(data, context):\n",
    "    if context.request_content_type == 'text/csv':        \n",
    "        input_data = data.read().decode('utf-8')        \n",
    "        # very simple csv handler\n",
    "        instances = []\n",
    "        ids = []\n",
    "        for i in input_data.split('\\n'): # the first element is the id, the rest is payload            \n",
    "            if len(i) == 0: continue\n",
    "            row = i.split(',')            \n",
    "            ids.append(int(row[0])) # id of the request\n",
    "            instances.append([float(row[1])]) # body of the request\n",
    "        \n",
    "        return json.dumps({'instances': instances}), ids\n",
    "\n",
    "    raise ValueError('{{\"error\": \"unsupported content type {}\"}}'.format(\n",
    "        context.request_content_type or \"unknown\"))\n",
    "\n",
    "def _process_output(data, context, ids):    \n",
    "    if data.status_code != 200:        \n",
    "        raise ValueError(data.content.decode('utf-8'))\n",
    "    \n",
    "    if context.accept_header == 'text/csv':\n",
    "        preds = []\n",
    "        idx = 0\n",
    "        for row in json.loads(data.content.decode('utf-8'))['predictions']:\n",
    "            for pred in row:\n",
    "                preds.append(\"%d,%.05f\" % (ids[idx], pred))\n",
    "                idx += 1\n",
    "        return \"\\n\".join(preds), context.accept_header\n",
    "\n",
    "    raise ValueError('{{\"error\": \"unsupported accept type {}\"}}'.format(\n",
    "        context.accept_header or \"unknown\"))"
   ]
  },
  {
   "cell_type": "markdown",
   "metadata": {},
   "source": [
    "## 2) Now, we can define the SageMaker Model"
   ]
  },
  {
   "cell_type": "code",
   "execution_count": 75,
   "metadata": {},
   "outputs": [],
   "source": [
    "from sagemaker.tensorflow import TensorFlowModel\n",
    "import logging\n",
    "\n",
    "key = \"%s/model.tar.gz\" % prefix\n",
    "sm_model = TensorFlowModel(\n",
    "    \"s3://%s/%s\" % (bucket_name, key ),\n",
    "    role,\n",
    "    sagemaker_session=sagemaker_session,\n",
    "    entry_point=\"inference.py\",\n",
    "    framework_version=\"2.3.1\",\n",
    "    container_log_level=logging.DEBUG\n",
    ")"
   ]
  },
  {
   "cell_type": "markdown",
   "metadata": {},
   "source": [
    "## 3) If you want to test the solution locally first, deploy the following local endpoint"
   ]
  },
  {
   "cell_type": "code",
   "execution_count": null,
   "metadata": {},
   "outputs": [],
   "source": [
    "predictor = sm_model.deploy(initial_instance_count=1, instance_type='local')"
   ]
  },
  {
   "cell_type": "code",
   "execution_count": 53,
   "metadata": {},
   "outputs": [
    {
     "name": "stdout",
     "output_type": "stream",
     "text": [
      "\u001b[36mr4y560c2st-algo-1-43ti1 |\u001b[0m INFO:python_service:http://gunicorn_upstream/invocations\r\n",
      "\u001b[36mr4y560c2st-algo-1-43ti1 |\u001b[0m INFO:tfs_utils:sagemaker tfs attributes: \r\n",
      "\u001b[36mr4y560c2st-algo-1-43ti1 |\u001b[0m {}\r\n",
      "\u001b[36mr4y560c2st-algo-1-43ti1 |\u001b[0m 172.18.0.1 - - [20/Feb/2021:11:32:21 +0000] \"POST /invocations HTTP/1.1\" 200 12352 \"-\" \"python-urllib3/1.26.3\"\r\n"
     ]
    }
   ],
   "source": [
    "import boto3\n",
    "import io\n",
    "from sagemaker.serializers import CSVSerializer\n",
    "from sagemaker.deserializers import NumpyDeserializer\n",
    "\n",
    "s3_client = boto3.client('s3')\n",
    "with io.BytesIO() as data:\n",
    "    key = \"%s/batch/input/file_%03d.csv\" % (prefix, 0 )\n",
    "    s3_client.download_fileobj(bucket_name, key, data)\n",
    "    data.seek(0)\n",
    "    x_test = np.genfromtxt(data, delimiter=',')    \n",
    "predictor.serializer = CSVSerializer()\n",
    "predictor.deserializer = NumpyDeserializer(accept='text/csv')#CSVDeserializer()\n",
    "\n",
    "preds = predictor.predict([(int(x[0]),float(x[1])) for x in x_test])"
   ]
  },
  {
   "cell_type": "code",
   "execution_count": 56,
   "metadata": {},
   "outputs": [
    {
     "data": {
      "image/png": "[encoded data removed]",
      "text/plain": [
       "<Figure size 432x288 with 1 Axes>"
      ]
     },
     "metadata": {
      "needs_background": "light"
     },
     "output_type": "display_data"
    }
   ],
   "source": [
    "plt.plot([x[1] for x in x_test], [x[1] for x in preds], 'r.', label=\"Predictions\")\n",
    "plt.legend()\n",
    "plt.show()"
   ]
  },
  {
   "cell_type": "code",
   "execution_count": null,
   "metadata": {},
   "outputs": [],
   "source": [
    "predictor.delete_endpoint()"
   ]
  },
  {
   "cell_type": "markdown",
   "metadata": {},
   "source": [
    "## 4) Now, lets process all the generated files in batch (on the cloud)"
   ]
  },
  {
   "cell_type": "code",
   "execution_count": null,
   "metadata": {},
   "outputs": [],
   "source": [
    "transformer = sm_model.transformer(\n",
    "    4,\n",
    "    'ml.c4.xlarge', \n",
    "    strategy='MultiRecord', # sagemaker sends as many lines as it can read to each round\n",
    "    assemble_with='Line',\n",
    "    accept='text/csv',\n",
    "    output_path=\"s3://%s/%s/batch/output\" % (bucket_name, prefix), \n",
    ")\n",
    "transformer.transform(\n",
    "    \"s3://%s/%s/batch/input\" % (bucket_name, prefix), \n",
    "    data_type='S3Prefix', \n",
    "    content_type='text/csv', \n",
    "    split_type='Line',\n",
    "    wait=True,\n",
    "    logs=True\n",
    ")"
   ]
  },
  {
   "cell_type": "markdown",
   "metadata": {},
   "source": [
    "### 4.1) Ok. Finally, let's take a look on the results"
   ]
  },
  {
   "cell_type": "code",
   "execution_count": 70,
   "metadata": {},
   "outputs": [],
   "source": [
    "import boto3\n",
    "import io\n",
    "\n",
    "s3_client = boto3.client('s3')"
   ]
  },
  {
   "cell_type": "code",
   "execution_count": 77,
   "metadata": {},
   "outputs": [
    {
     "name": "stdout",
     "output_type": "stream",
     "text": [
      "Progress: 1/1000\n",
      "Progress: 51/1000\n",
      "Progress: 101/1000\n",
      "Progress: 151/1000\n",
      "Progress: 201/1000\n",
      "Progress: 251/1000\n",
      "Progress: 301/1000\n",
      "Progress: 351/1000\n",
      "Progress: 401/1000\n",
      "Progress: 451/1000\n",
      "Progress: 501/1000\n",
      "Progress: 551/1000\n",
      "Progress: 601/1000\n",
      "Progress: 651/1000\n",
      "Progress: 701/1000\n",
      "Progress: 751/1000\n",
      "Progress: 801/1000\n",
      "Progress: 851/1000\n",
      "Progress: 901/1000\n",
      "Progress: 951/1000\n",
      "CPU times: user 25.4 s, sys: 639 ms, total: 26 s\n",
      "Wall time: 1min 56s\n"
     ]
    }
   ],
   "source": [
    "%%time\n",
    "## Loading the input/output files\n",
    "x_test = []\n",
    "y_test = []\n",
    "for file_id in range(1000):\n",
    "    if file_id % 50 == 0:\n",
    "        print('Progress: %d/1000' % (file_id+1))\n",
    "    with io.BytesIO() as data:\n",
    "        key = \"%s/batch/input/file_%03d.csv\" % (prefix, file_id)\n",
    "        s3_client.download_fileobj(bucket_name, key, data)\n",
    "        data.seek(0)\n",
    "        x = np.genfromtxt(data, delimiter=',')\n",
    "        \n",
    "    with io.BytesIO() as data:\n",
    "        key = \"%s/batch/output/file_%03d.csv.out\" % (prefix, file_id)\n",
    "        s3_client.download_fileobj(bucket_name, key, data)\n",
    "        data.seek(0)\n",
    "        y = np.genfromtxt(data, delimiter=',')\n",
    "        \n",
    "    for feat, pred in zip(x,y):\n",
    "        assert(feat[0] == pred[0])\n",
    "        x_test.append(feat[1])\n",
    "        y_test.append(pred[1])"
   ]
  },
  {
   "cell_type": "code",
   "execution_count": 78,
   "metadata": {},
   "outputs": [
    {
     "name": "stderr",
     "output_type": "stream",
     "text": [
      "/home/ec2-user/anaconda3/envs/tensorflow2_p36/lib/python3.6/site-packages/IPython/core/pylabtools.py:132: UserWarning: Creating legend with loc=\"best\" can be slow with large amounts of data.\n",
      "  fig.canvas.print_figure(bytes_io, **kw)\n"
     ]
    },
    {
     "data": {
      "image/png": "[encoded data removed]",
      "text/plain": [
       "<Figure size 432x288 with 1 Axes>"
      ]
     },
     "metadata": {
      "needs_background": "light"
     },
     "output_type": "display_data"
    }
   ],
   "source": [
    "plt.plot(x_test, y_test, 'r.', label=\"Predictions\")\n",
    "plt.legend()\n",
    "plt.show()"
   ]
  },
  {
   "cell_type": "code",
   "execution_count": null,
   "metadata": {},
   "outputs": [],
   "source": []
  }
 ],
 "metadata": {
  "kernelspec": {
   "display_name": "conda_tensorflow2_p36",
   "language": "python",
   "name": "conda_tensorflow2_p36"
  },
  "language_info": {
   "codemirror_mode": {
    "name": "ipython",
    "version": 3
   },
   "file_extension": ".py",
   "mimetype": "text/x-python",
   "name": "python",
   "nbconvert_exporter": "python",
   "pygments_lexer": "ipython3",
   "version": "3.6.10"
  }
 },
 "nbformat": 4,
 "nbformat_minor": 4
}
