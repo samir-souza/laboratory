{
 "cells": [
  {
   "cell_type": "markdown",
   "metadata": {},
   "source": [
    "## Alright, now that we have our dataset, let's train our model using SageMaker\n",
    "First, let's upload the dataset to S3"
   ]
  },
  {
   "cell_type": "code",
   "execution_count": 1,
   "metadata": {
    "scrolled": true
   },
   "outputs": [
    {
     "name": "stdout",
     "output_type": "stream",
     "text": [
      "s3://sagemaker-us-east-1-715445047862/fraud_detection/train.csv\n"
     ]
    }
   ],
   "source": [
    "import sagemaker\n",
    "sagemaker_session = sagemaker.Session()\n",
    "file_name='data/train.csv'\n",
    "prefix='fraud_detection'\n",
    "train_input = sagemaker_session.upload_data(file_name, key_prefix=prefix)\n",
    "print(train_input)"
   ]
  },
  {
   "cell_type": "markdown",
   "metadata": {},
   "source": [
    "### And now, we can create the training script to share with SageMaker"
   ]
  },
  {
   "cell_type": "code",
   "execution_count": 2,
   "metadata": {
    "scrolled": true
   },
   "outputs": [
    {
     "name": "stdout",
     "output_type": "stream",
     "text": [
      "Overwriting fraud_detection.py\n"
     ]
    }
   ],
   "source": [
    "%%writefile fraud_detection.py\n",
    "import argparse\n",
    "import joblib\n",
    "import os\n",
    "import numpy as np\n",
    "import pandas as pd\n",
    "import glob\n",
    "\n",
    "from sklearn.model_selection import StratifiedKFold\n",
    "from sklearn.ensemble import RandomForestClassifier\n",
    "from sklearn.metrics import f1_score\n",
    "from sklearn.utils.class_weight import compute_class_weight\n",
    "\n",
    "def load_data(data_dir):\n",
    "    input_files = glob.glob(os.path.join(data_dir, '*.csv'))\n",
    "    raw_data = [ pd.read_csv(file, header=None, engine=\"python\") for file in input_files ]\n",
    "    train_data = pd.concat(raw_data)\n",
    "     # labels are in the first column\n",
    "    train_y = train_data.iloc[:, 0].values\n",
    "    train_X = train_data.iloc[:, 1:].values\n",
    "    return train_y, train_X\n",
    "\n",
    "def train(args):\n",
    "    kf = StratifiedKFold(n_splits=12, shuffle=True, random_state=42)\n",
    "    y,X = load_data(args.train)\n",
    "    cw = compute_class_weight('balanced', classes=np.unique(y), y=y)\n",
    "    best = 0\n",
    "    iteration = 0\n",
    "    for train_index, test_index in kf.split(X,y):\n",
    "        X_train, X_test = X[train_index], X[test_index]\n",
    "        y_train, y_test = y[train_index], y[test_index]\n",
    "        \n",
    "        print(\"Training...\")\n",
    "        model = RandomForestClassifier(\n",
    "            n_estimators=args.n_estimators, verbose=args.verbose, \n",
    "            n_jobs=-1, criterion='gini', max_leaf_nodes=args.max_leaf_nodes, \n",
    "            max_depth=args.max_depth, random_state=0, class_weight={0: cw[0], 1:cw[1]}\n",
    "        )\n",
    "        model.fit(X_train, y_train)\n",
    "        print(\"Done! Computing scores...\")        \n",
    "        train_score = f1_score(y_train, model.predict(X_train))\n",
    "        test_score = f1_score(y_test, model.predict(X_test))\n",
    "        print(\"Iteration=%d; train_f1=%f; test_f1=%f;\" % (iteration, train_score, test_score))\n",
    "        \n",
    "        if test_score > best:            \n",
    "            best = test_score\n",
    "            print(\"Saving checkpoint for best model: best_f1=%f;\" % best)\n",
    "            joblib.dump(model, os.path.join(args.output_data_dir, \"best_model.joblib\"))\n",
    "        \n",
    "        iteration += 1\n",
    "    print(\"\\nSaving the best model: best_f1=%f;\" % best)\n",
    "    model = joblib.load(os.path.join(args.output_data_dir, \"best_model.joblib\"))\n",
    "    joblib.dump(model, os.path.join(args.model_dir, \"model.joblib\"))\n",
    "\n",
    "def model_fn(model_dir):\n",
    "    return joblib.load(os.path.join(model_dir, \"model.joblib\"))    \n",
    "\n",
    "if __name__ == '__main__':\n",
    "    parser = argparse.ArgumentParser()\n",
    "\n",
    "    # Hyperparameters are described here. In this simple example we are just including one hyperparameter.    \n",
    "    parser.add_argument('--n_estimators', type=int, default=30)\n",
    "    parser.add_argument('--max_depth', type=int, default=10)\n",
    "    parser.add_argument('--max_leaf_nodes', type=int, default=-1)\n",
    "    parser.add_argument('--k_fold_splits', type=int, default=2)\n",
    "    parser.add_argument('--verbose', type=int, default=1)\n",
    "\n",
    "    # Sagemaker specific arguments. Defaults are set in the environment variables.\n",
    "    parser.add_argument('--output-data-dir', type=str, default=os.environ['SM_OUTPUT_DATA_DIR'])\n",
    "    parser.add_argument('--model-dir', type=str, default=os.environ['SM_MODEL_DIR'])\n",
    "    parser.add_argument('--train', type=str, default=os.environ['SM_CHANNEL_TRAIN'])\n",
    "\n",
    "    args = parser.parse_args()\n",
    "    train(args)"
   ]
  },
  {
   "cell_type": "markdown",
   "metadata": {},
   "source": [
    "### Next, we create the Estimator\n",
    "Please, not that we are using a big instance to train the model: ml.c5.9xlarge. It has 36 Vcpus. This is important, given the dataset is big and the training process could take a long time in a small machine. With that machine the training will take something like 10mins."
   ]
  },
  {
   "cell_type": "code",
   "execution_count": 3,
   "metadata": {},
   "outputs": [],
   "source": [
    "import sagemaker\n",
    "from sagemaker.sklearn.estimator import SKLearn\n",
    "\n",
    "role = sagemaker.get_execution_role()\n",
    "sagemaker_session=sagemaker.Session()\n",
    "\n",
    "estimator = SKLearn(\n",
    "    'fraud_detection.py', \n",
    "    framework_version='0.23-1', \n",
    "    role=role,\n",
    "    sagemaker_session=sagemaker_session,\n",
    "    train_instance_type='ml.c5.9xlarge', # 36 vcpus to finish quicker\n",
    "    py_version='py3', \n",
    "    hyperparameters={\n",
    "        'n_estimators': 30,\n",
    "        'max_depth': 10,\n",
    "        'max_leaf_nodes': 46,\n",
    "        'k_fold_splits': 12,\n",
    "        'verbose': 1\n",
    "    },\n",
    "    metric_definitions=[\n",
    "        {'Name': 'train:f1', 'Regex': ' train_f1=(\\S+);'},\n",
    "        {'Name': 'test:f1', 'Regex': ' test_f1=(\\S+);'}\n",
    "    ]\n",
    ")"
   ]
  },
  {
   "cell_type": "code",
   "execution_count": 14,
   "metadata": {},
   "outputs": [
    {
     "name": "stderr",
     "output_type": "stream",
     "text": [
      "'s3_input' class will be renamed to 'TrainingInput' in SageMaker Python SDK v2.\n"
     ]
    },
    {
     "name": "stdout",
     "output_type": "stream",
     "text": [
      "2020-10-01 16:23:14 Starting - Starting the training job...\n",
      "2020-10-01 16:23:16 Starting - Launching requested ML instances......\n",
      "2020-10-01 16:24:36 Starting - Preparing the instances for training......\n",
      "2020-10-01 16:25:23 Downloading - Downloading input data...\n",
      "2020-10-01 16:26:11 Training - Training image download completed. Training in progress..\u001b[34m2020-10-01 16:26:12,066 sagemaker-training-toolkit INFO     Imported framework sagemaker_sklearn_container.training\u001b[0m\n",
      "\u001b[34m2020-10-01 16:26:12,068 sagemaker-training-toolkit INFO     No GPUs detected (normal if no gpus installed)\u001b[0m\n",
      "\u001b[34m2020-10-01 16:26:12,075 sagemaker_sklearn_container.training INFO     Invoking user training script.\u001b[0m\n",
      "\u001b[34m2020-10-01 16:26:33,106 sagemaker-training-toolkit INFO     No GPUs detected (normal if no gpus installed)\u001b[0m\n",
      "\u001b[34m2020-10-01 16:26:33,115 sagemaker-training-toolkit INFO     No GPUs detected (normal if no gpus installed)\u001b[0m\n",
      "\u001b[34m2020-10-01 16:26:33,124 sagemaker-training-toolkit INFO     No GPUs detected (normal if no gpus installed)\u001b[0m\n",
      "\u001b[34m2020-10-01 16:26:33,132 sagemaker-training-toolkit INFO     Invoking user script\n",
      "\u001b[0m\n",
      "\u001b[34mTraining Env:\n",
      "\u001b[0m\n",
      "\u001b[34m{\n",
      "    \"additional_framework_parameters\": {},\n",
      "    \"channel_input_dirs\": {\n",
      "        \"train\": \"/opt/ml/input/data/train\"\n",
      "    },\n",
      "    \"current_host\": \"algo-1\",\n",
      "    \"framework_module\": \"sagemaker_sklearn_container.training:main\",\n",
      "    \"hosts\": [\n",
      "        \"algo-1\"\n",
      "    ],\n",
      "    \"hyperparameters\": {\n",
      "        \"max_leaf_nodes\": 46,\n",
      "        \"k_fold_splits\": 12,\n",
      "        \"max_depth\": 10,\n",
      "        \"n_estimators\": 30,\n",
      "        \"verbose\": 1\n",
      "    },\n",
      "    \"input_config_dir\": \"/opt/ml/input/config\",\n",
      "    \"input_data_config\": {\n",
      "        \"train\": {\n",
      "            \"TrainingInputMode\": \"File\",\n",
      "            \"S3DistributionType\": \"FullyReplicated\",\n",
      "            \"RecordWrapperType\": \"None\"\n",
      "        }\n",
      "    },\n",
      "    \"input_dir\": \"/opt/ml/input\",\n",
      "    \"is_master\": true,\n",
      "    \"job_name\": \"sagemaker-scikit-learn-2020-10-01-16-23-13-745\",\n",
      "    \"log_level\": 20,\n",
      "    \"master_hostname\": \"algo-1\",\n",
      "    \"model_dir\": \"/opt/ml/model\",\n",
      "    \"module_dir\": \"s3://sagemaker-us-east-1-715445047862/sagemaker-scikit-learn-2020-10-01-16-23-13-745/source/sourcedir.tar.gz\",\n",
      "    \"module_name\": \"fraud_detection\",\n",
      "    \"network_interface_name\": \"eth0\",\n",
      "    \"num_cpus\": 36,\n",
      "    \"num_gpus\": 0,\n",
      "    \"output_data_dir\": \"/opt/ml/output/data\",\n",
      "    \"output_dir\": \"/opt/ml/output\",\n",
      "    \"output_intermediate_dir\": \"/opt/ml/output/intermediate\",\n",
      "    \"resource_config\": {\n",
      "        \"current_host\": \"algo-1\",\n",
      "        \"hosts\": [\n",
      "            \"algo-1\"\n",
      "        ],\n",
      "        \"network_interface_name\": \"eth0\"\n",
      "    },\n",
      "    \"user_entry_point\": \"fraud_detection.py\"\u001b[0m\n",
      "\u001b[34m}\n",
      "\u001b[0m\n",
      "\u001b[34mEnvironment variables:\n",
      "\u001b[0m\n",
      "\u001b[34mSM_HOSTS=[\"algo-1\"]\u001b[0m\n",
      "\u001b[34mSM_NETWORK_INTERFACE_NAME=eth0\u001b[0m\n",
      "\u001b[34mSM_HPS={\"k_fold_splits\":12,\"max_depth\":10,\"max_leaf_nodes\":46,\"n_estimators\":30,\"verbose\":1}\u001b[0m\n",
      "\u001b[34mSM_USER_ENTRY_POINT=fraud_detection.py\u001b[0m\n",
      "\u001b[34mSM_FRAMEWORK_PARAMS={}\u001b[0m\n",
      "\u001b[34mSM_RESOURCE_CONFIG={\"current_host\":\"algo-1\",\"hosts\":[\"algo-1\"],\"network_interface_name\":\"eth0\"}\u001b[0m\n",
      "\u001b[34mSM_INPUT_DATA_CONFIG={\"train\":{\"RecordWrapperType\":\"None\",\"S3DistributionType\":\"FullyReplicated\",\"TrainingInputMode\":\"File\"}}\u001b[0m\n",
      "\u001b[34mSM_OUTPUT_DATA_DIR=/opt/ml/output/data\u001b[0m\n",
      "\u001b[34mSM_CHANNELS=[\"train\"]\u001b[0m\n",
      "\u001b[34mSM_CURRENT_HOST=algo-1\u001b[0m\n",
      "\u001b[34mSM_MODULE_NAME=fraud_detection\u001b[0m\n",
      "\u001b[34mSM_LOG_LEVEL=20\u001b[0m\n",
      "\u001b[34mSM_FRAMEWORK_MODULE=sagemaker_sklearn_container.training:main\u001b[0m\n",
      "\u001b[34mSM_INPUT_DIR=/opt/ml/input\u001b[0m\n",
      "\u001b[34mSM_INPUT_CONFIG_DIR=/opt/ml/input/config\u001b[0m\n",
      "\u001b[34mSM_OUTPUT_DIR=/opt/ml/output\u001b[0m\n",
      "\u001b[34mSM_NUM_CPUS=36\u001b[0m\n",
      "\u001b[34mSM_NUM_GPUS=0\u001b[0m\n",
      "\u001b[34mSM_MODEL_DIR=/opt/ml/model\u001b[0m\n",
      "\u001b[34mSM_MODULE_DIR=s3://sagemaker-us-east-1-715445047862/sagemaker-scikit-learn-2020-10-01-16-23-13-745/source/sourcedir.tar.gz\u001b[0m\n",
      "\u001b[34mSM_TRAINING_ENV={\"additional_framework_parameters\":{},\"channel_input_dirs\":{\"train\":\"/opt/ml/input/data/train\"},\"current_host\":\"algo-1\",\"framework_module\":\"sagemaker_sklearn_container.training:main\",\"hosts\":[\"algo-1\"],\"hyperparameters\":{\"k_fold_splits\":12,\"max_depth\":10,\"max_leaf_nodes\":46,\"n_estimators\":30,\"verbose\":1},\"input_config_dir\":\"/opt/ml/input/config\",\"input_data_config\":{\"train\":{\"RecordWrapperType\":\"None\",\"S3DistributionType\":\"FullyReplicated\",\"TrainingInputMode\":\"File\"}},\"input_dir\":\"/opt/ml/input\",\"is_master\":true,\"job_name\":\"sagemaker-scikit-learn-2020-10-01-16-23-13-745\",\"log_level\":20,\"master_hostname\":\"algo-1\",\"model_dir\":\"/opt/ml/model\",\"module_dir\":\"s3://sagemaker-us-east-1-715445047862/sagemaker-scikit-learn-2020-10-01-16-23-13-745/source/sourcedir.tar.gz\",\"module_name\":\"fraud_detection\",\"network_interface_name\":\"eth0\",\"num_cpus\":36,\"num_gpus\":0,\"output_data_dir\":\"/opt/ml/output/data\",\"output_dir\":\"/opt/ml/output\",\"output_intermediate_dir\":\"/opt/ml/output/intermediate\",\"resource_config\":{\"current_host\":\"algo-1\",\"hosts\":[\"algo-1\"],\"network_interface_name\":\"eth0\"},\"user_entry_point\":\"fraud_detection.py\"}\u001b[0m\n",
      "\u001b[34mSM_USER_ARGS=[\"--k_fold_splits\",\"12\",\"--max_depth\",\"10\",\"--max_leaf_nodes\",\"46\",\"--n_estimators\",\"30\",\"--verbose\",\"1\"]\u001b[0m\n",
      "\u001b[34mSM_OUTPUT_INTERMEDIATE_DIR=/opt/ml/output/intermediate\u001b[0m\n",
      "\u001b[34mSM_CHANNEL_TRAIN=/opt/ml/input/data/train\u001b[0m\n",
      "\u001b[34mSM_HP_MAX_LEAF_NODES=46\u001b[0m\n",
      "\u001b[34mSM_HP_K_FOLD_SPLITS=12\u001b[0m\n",
      "\u001b[34mSM_HP_MAX_DEPTH=10\u001b[0m\n",
      "\u001b[34mSM_HP_N_ESTIMATORS=30\u001b[0m\n",
      "\u001b[34mSM_HP_VERBOSE=1\u001b[0m\n",
      "\u001b[34mPYTHONPATH=/opt/ml/code:/miniconda3/bin:/miniconda3/lib/python38.zip:/miniconda3/lib/python3.8:/miniconda3/lib/python3.8/lib-dynload:/miniconda3/lib/python3.8/site-packages\n",
      "\u001b[0m\n",
      "\u001b[34mInvoking script with the following command:\n",
      "\u001b[0m\n",
      "\u001b[34m/miniconda3/bin/python fraud_detection.py --k_fold_splits 12 --max_depth 10 --max_leaf_nodes 46 --n_estimators 30 --verbose 1\n",
      "\n",
      "\u001b[0m\n",
      "\u001b[34mTraining...\u001b[0m\n",
      "\u001b[34m[Parallel(n_jobs=-1)]: Using backend ThreadingBackend with 36 concurrent workers.\u001b[0m\n",
      "\u001b[34m[Parallel(n_jobs=-1)]: Done  21 out of  30 | elapsed:   15.7s remaining:    6.7s\u001b[0m\n",
      "\u001b[34m[Parallel(n_jobs=-1)]: Done  30 out of  30 | elapsed:   21.8s finished\u001b[0m\n",
      "\u001b[34mDone! Computing scores...\u001b[0m\n",
      "\u001b[34m[Parallel(n_jobs=30)]: Using backend ThreadingBackend with 30 concurrent workers.\u001b[0m\n",
      "\u001b[34m[Parallel(n_jobs=30)]: Done   2 out of  30 | elapsed:    0.7s remaining:    9.9s\u001b[0m\n",
      "\u001b[34m[Parallel(n_jobs=30)]: Done  30 out of  30 | elapsed:    1.1s finished\u001b[0m\n",
      "\u001b[34m[Parallel(n_jobs=30)]: Using backend ThreadingBackend with 30 concurrent workers.\u001b[0m\n",
      "\u001b[34m[Parallel(n_jobs=30)]: Done   2 out of  30 | elapsed:    0.1s remaining:    0.8s\u001b[0m\n",
      "\u001b[34m[Parallel(n_jobs=30)]: Done  30 out of  30 | elapsed:    0.1s finished\u001b[0m\n",
      "\u001b[34mIteration=0; train_f1=0.998004; test_f1=0.998538;\u001b[0m\n",
      "\u001b[34mSaving checkpoint for best model: best_f1=0.998538;\u001b[0m\n",
      "\u001b[34mTraining...\u001b[0m\n",
      "\u001b[34m[Parallel(n_jobs=-1)]: Using backend ThreadingBackend with 36 concurrent workers.\u001b[0m\n",
      "\u001b[34m[Parallel(n_jobs=-1)]: Done  21 out of  30 | elapsed:   16.3s remaining:    7.0s\u001b[0m\n",
      "\u001b[34m[Parallel(n_jobs=-1)]: Done  30 out of  30 | elapsed:   18.9s finished\u001b[0m\n",
      "\u001b[34mDone! Computing scores...\u001b[0m\n",
      "\u001b[34m[Parallel(n_jobs=30)]: Using backend ThreadingBackend with 30 concurrent workers.\u001b[0m\n",
      "\u001b[34m[Parallel(n_jobs=30)]: Done   2 out of  30 | elapsed:    0.7s remaining:    9.8s\u001b[0m\n",
      "\u001b[34m[Parallel(n_jobs=30)]: Done  30 out of  30 | elapsed:    1.1s finished\u001b[0m\n",
      "\u001b[34m[Parallel(n_jobs=30)]: Using backend ThreadingBackend with 30 concurrent workers.\u001b[0m\n",
      "\u001b[34m[Parallel(n_jobs=30)]: Done   2 out of  30 | elapsed:    0.1s remaining:    0.8s\u001b[0m\n",
      "\u001b[34m[Parallel(n_jobs=30)]: Done  30 out of  30 | elapsed:    0.1s finished\u001b[0m\n",
      "\u001b[34mIteration=1; train_f1=0.998070; test_f1=1.000000;\u001b[0m\n",
      "\u001b[34mSaving checkpoint for best model: best_f1=1.000000;\u001b[0m\n",
      "\u001b[34mTraining...\u001b[0m\n",
      "\u001b[34m[Parallel(n_jobs=-1)]: Using backend ThreadingBackend with 36 concurrent workers.\u001b[0m\n",
      "\u001b[34m[Parallel(n_jobs=-1)]: Done  21 out of  30 | elapsed:   15.8s remaining:    6.8s\u001b[0m\n",
      "\u001b[34m[Parallel(n_jobs=-1)]: Done  30 out of  30 | elapsed:   19.6s finished\u001b[0m\n",
      "\u001b[34mDone! Computing scores...\u001b[0m\n",
      "\u001b[34m[Parallel(n_jobs=30)]: Using backend ThreadingBackend with 30 concurrent workers.\u001b[0m\n",
      "\u001b[34m[Parallel(n_jobs=30)]: Done   2 out of  30 | elapsed:    0.7s remaining:    9.8s\u001b[0m\n",
      "\u001b[34m[Parallel(n_jobs=30)]: Done  30 out of  30 | elapsed:    1.1s finished\u001b[0m\n",
      "\u001b[34m[Parallel(n_jobs=30)]: Using backend ThreadingBackend with 30 concurrent workers.\u001b[0m\n",
      "\u001b[34m[Parallel(n_jobs=30)]: Done   2 out of  30 | elapsed:    0.1s remaining:    0.8s\u001b[0m\n",
      "\u001b[34m[Parallel(n_jobs=30)]: Done  30 out of  30 | elapsed:    0.1s finished\u001b[0m\n",
      "\u001b[34mIteration=2; train_f1=0.998338; test_f1=0.995601;\u001b[0m\n",
      "\u001b[34mTraining...\u001b[0m\n",
      "\u001b[34m[Parallel(n_jobs=-1)]: Using backend ThreadingBackend with 36 concurrent workers.\u001b[0m\n"
     ]
    },
    {
     "name": "stdout",
     "output_type": "stream",
     "text": [
      "\u001b[34m[Parallel(n_jobs=-1)]: Done  21 out of  30 | elapsed:   15.4s remaining:    6.6s\u001b[0m\n",
      "\u001b[34m[Parallel(n_jobs=-1)]: Done  30 out of  30 | elapsed:   18.4s finished\u001b[0m\n",
      "\u001b[34mDone! Computing scores...\u001b[0m\n",
      "\u001b[34m[Parallel(n_jobs=30)]: Using backend ThreadingBackend with 30 concurrent workers.\u001b[0m\n",
      "\u001b[34m[Parallel(n_jobs=30)]: Done   2 out of  30 | elapsed:    0.7s remaining:    9.8s\u001b[0m\n",
      "\u001b[34m[Parallel(n_jobs=30)]: Done  30 out of  30 | elapsed:    1.1s finished\u001b[0m\n",
      "\u001b[34m[Parallel(n_jobs=30)]: Using backend ThreadingBackend with 30 concurrent workers.\u001b[0m\n",
      "\u001b[34m[Parallel(n_jobs=30)]: Done   2 out of  30 | elapsed:    0.0s remaining:    0.6s\u001b[0m\n",
      "\u001b[34m[Parallel(n_jobs=30)]: Done  30 out of  30 | elapsed:    0.1s finished\u001b[0m\n",
      "\u001b[34mIteration=3; train_f1=0.998537; test_f1=0.995601;\u001b[0m\n",
      "\u001b[34mTraining...\u001b[0m\n",
      "\u001b[34m[Parallel(n_jobs=-1)]: Using backend ThreadingBackend with 36 concurrent workers.\u001b[0m\n",
      "\u001b[34m[Parallel(n_jobs=-1)]: Done  21 out of  30 | elapsed:   16.1s remaining:    6.9s\u001b[0m\n",
      "\u001b[34m[Parallel(n_jobs=-1)]: Done  30 out of  30 | elapsed:   17.5s finished\u001b[0m\n",
      "\u001b[34mDone! Computing scores...\u001b[0m\n",
      "\u001b[34m[Parallel(n_jobs=30)]: Using backend ThreadingBackend with 30 concurrent workers.\u001b[0m\n",
      "\u001b[34m[Parallel(n_jobs=30)]: Done   2 out of  30 | elapsed:    0.7s remaining:    9.9s\u001b[0m\n",
      "\u001b[34m[Parallel(n_jobs=30)]: Done  30 out of  30 | elapsed:    1.1s finished\u001b[0m\n",
      "\u001b[34m[Parallel(n_jobs=30)]: Using backend ThreadingBackend with 30 concurrent workers.\u001b[0m\n",
      "\u001b[34m[Parallel(n_jobs=30)]: Done   2 out of  30 | elapsed:    0.0s remaining:    0.5s\u001b[0m\n",
      "\u001b[34m[Parallel(n_jobs=30)]: Done  30 out of  30 | elapsed:    0.1s finished\u001b[0m\n",
      "\u001b[34mIteration=4; train_f1=0.998137; test_f1=0.998536;\u001b[0m\n",
      "\u001b[34mTraining...\u001b[0m\n",
      "\u001b[34m[Parallel(n_jobs=-1)]: Using backend ThreadingBackend with 36 concurrent workers.\u001b[0m\n",
      "\u001b[34m[Parallel(n_jobs=-1)]: Done  21 out of  30 | elapsed:   15.9s remaining:    6.8s\u001b[0m\n",
      "\u001b[34m[Parallel(n_jobs=-1)]: Done  30 out of  30 | elapsed:   20.2s finished\u001b[0m\n",
      "\u001b[34mDone! Computing scores...\u001b[0m\n",
      "\u001b[34m[Parallel(n_jobs=30)]: Using backend ThreadingBackend with 30 concurrent workers.\u001b[0m\n",
      "\u001b[34m[Parallel(n_jobs=30)]: Done   2 out of  30 | elapsed:    0.7s remaining:    9.7s\u001b[0m\n",
      "\u001b[34m[Parallel(n_jobs=30)]: Done  30 out of  30 | elapsed:    1.1s finished\u001b[0m\n",
      "\u001b[34m[Parallel(n_jobs=30)]: Using backend ThreadingBackend with 30 concurrent workers.\u001b[0m\n",
      "\u001b[34m[Parallel(n_jobs=30)]: Done   2 out of  30 | elapsed:    0.0s remaining:    0.6s\u001b[0m\n",
      "\u001b[34m[Parallel(n_jobs=30)]: Done  30 out of  30 | elapsed:    0.1s finished\u001b[0m\n",
      "\u001b[34mIteration=5; train_f1=0.998005; test_f1=0.998536;\u001b[0m\n",
      "\u001b[34mTraining...\u001b[0m\n",
      "\u001b[34m[Parallel(n_jobs=-1)]: Using backend ThreadingBackend with 36 concurrent workers.\u001b[0m\n",
      "\u001b[34m[Parallel(n_jobs=-1)]: Done  21 out of  30 | elapsed:   15.9s remaining:    6.8s\u001b[0m\n",
      "\u001b[34m[Parallel(n_jobs=-1)]: Done  30 out of  30 | elapsed:   17.8s finished\u001b[0m\n",
      "\u001b[34mDone! Computing scores...\u001b[0m\n",
      "\u001b[34m[Parallel(n_jobs=30)]: Using backend ThreadingBackend with 30 concurrent workers.\u001b[0m\n",
      "\u001b[34m[Parallel(n_jobs=30)]: Done   2 out of  30 | elapsed:    0.7s remaining:    9.9s\u001b[0m\n",
      "\u001b[34m[Parallel(n_jobs=30)]: Done  30 out of  30 | elapsed:    1.1s finished\u001b[0m\n",
      "\u001b[34m[Parallel(n_jobs=30)]: Using backend ThreadingBackend with 30 concurrent workers.\u001b[0m\n",
      "\u001b[34m[Parallel(n_jobs=30)]: Done   2 out of  30 | elapsed:    0.0s remaining:    0.6s\u001b[0m\n",
      "\u001b[34m[Parallel(n_jobs=30)]: Done  30 out of  30 | elapsed:    0.1s finished\u001b[0m\n",
      "\u001b[34mIteration=6; train_f1=0.998005; test_f1=0.997802;\u001b[0m\n",
      "\u001b[34mTraining...\u001b[0m\n",
      "\u001b[34m[Parallel(n_jobs=-1)]: Using backend ThreadingBackend with 36 concurrent workers.\u001b[0m\n",
      "\u001b[34m[Parallel(n_jobs=-1)]: Done  21 out of  30 | elapsed:   15.9s remaining:    6.8s\u001b[0m\n",
      "\u001b[34m[Parallel(n_jobs=-1)]: Done  30 out of  30 | elapsed:   18.5s finished\u001b[0m\n",
      "\u001b[34mDone! Computing scores...\u001b[0m\n",
      "\u001b[34m[Parallel(n_jobs=30)]: Using backend ThreadingBackend with 30 concurrent workers.\u001b[0m\n",
      "\u001b[34m[Parallel(n_jobs=30)]: Done   2 out of  30 | elapsed:    0.7s remaining:   10.1s\u001b[0m\n",
      "\u001b[34m[Parallel(n_jobs=30)]: Done  30 out of  30 | elapsed:    1.1s finished\u001b[0m\n",
      "\u001b[34m[Parallel(n_jobs=30)]: Using backend ThreadingBackend with 30 concurrent workers.\u001b[0m\n",
      "\u001b[34m[Parallel(n_jobs=30)]: Done   2 out of  30 | elapsed:    0.0s remaining:    0.6s\u001b[0m\n",
      "\u001b[34m[Parallel(n_jobs=30)]: Done  30 out of  30 | elapsed:    0.1s finished\u001b[0m\n",
      "\u001b[34mIteration=7; train_f1=0.997606; test_f1=0.998538;\u001b[0m\n",
      "\u001b[34mTraining...\u001b[0m\n",
      "\u001b[34m[Parallel(n_jobs=-1)]: Using backend ThreadingBackend with 36 concurrent workers.\u001b[0m\n",
      "\u001b[34m[Parallel(n_jobs=-1)]: Done  21 out of  30 | elapsed:   15.7s remaining:    6.7s\u001b[0m\n",
      "\u001b[34m[Parallel(n_jobs=-1)]: Done  30 out of  30 | elapsed:   18.4s finished\u001b[0m\n",
      "\u001b[34mDone! Computing scores...\u001b[0m\n",
      "\u001b[34m[Parallel(n_jobs=30)]: Using backend ThreadingBackend with 30 concurrent workers.\u001b[0m\n",
      "\u001b[34m[Parallel(n_jobs=30)]: Done   2 out of  30 | elapsed:    0.7s remaining:   10.0s\u001b[0m\n",
      "\u001b[34m[Parallel(n_jobs=30)]: Done  30 out of  30 | elapsed:    1.1s finished\u001b[0m\n",
      "\u001b[34m[Parallel(n_jobs=30)]: Using backend ThreadingBackend with 30 concurrent workers.\u001b[0m\n",
      "\u001b[34m[Parallel(n_jobs=30)]: Done   2 out of  30 | elapsed:    0.0s remaining:    0.6s\u001b[0m\n",
      "\u001b[34m[Parallel(n_jobs=30)]: Done  30 out of  30 | elapsed:    0.1s finished\u001b[0m\n",
      "\u001b[34mIteration=8; train_f1=0.998071; test_f1=0.997076;\u001b[0m\n",
      "\u001b[34mTraining...\u001b[0m\n",
      "\u001b[34m[Parallel(n_jobs=-1)]: Using backend ThreadingBackend with 36 concurrent workers.\u001b[0m\n",
      "\u001b[34m[Parallel(n_jobs=-1)]: Done  21 out of  30 | elapsed:   15.8s remaining:    6.8s\u001b[0m\n",
      "\u001b[34m[Parallel(n_jobs=-1)]: Done  30 out of  30 | elapsed:   19.7s finished\u001b[0m\n",
      "\u001b[34mDone! Computing scores...\u001b[0m\n",
      "\u001b[34m[Parallel(n_jobs=30)]: Using backend ThreadingBackend with 30 concurrent workers.\u001b[0m\n",
      "\u001b[34m[Parallel(n_jobs=30)]: Done   2 out of  30 | elapsed:    0.7s remaining:    9.9s\u001b[0m\n",
      "\u001b[34m[Parallel(n_jobs=30)]: Done  30 out of  30 | elapsed:    1.1s finished\u001b[0m\n",
      "\u001b[34m[Parallel(n_jobs=30)]: Using backend ThreadingBackend with 30 concurrent workers.\u001b[0m\n",
      "\u001b[34m[Parallel(n_jobs=30)]: Done   2 out of  30 | elapsed:    0.0s remaining:    0.5s\u001b[0m\n",
      "\u001b[34m[Parallel(n_jobs=30)]: Done  30 out of  30 | elapsed:    0.1s finished\u001b[0m\n",
      "\u001b[34mIteration=9; train_f1=0.997673; test_f1=0.997802;\u001b[0m\n",
      "\u001b[34mTraining...\u001b[0m\n",
      "\u001b[34m[Parallel(n_jobs=-1)]: Using backend ThreadingBackend with 36 concurrent workers.\u001b[0m\n",
      "\u001b[34m[Parallel(n_jobs=-1)]: Done  21 out of  30 | elapsed:   16.2s remaining:    7.0s\u001b[0m\n",
      "\u001b[34m[Parallel(n_jobs=-1)]: Done  30 out of  30 | elapsed:   19.2s finished\u001b[0m\n",
      "\u001b[34mDone! Computing scores...\u001b[0m\n",
      "\u001b[34m[Parallel(n_jobs=30)]: Using backend ThreadingBackend with 30 concurrent workers.\u001b[0m\n",
      "\u001b[34m[Parallel(n_jobs=30)]: Done   2 out of  30 | elapsed:    0.7s remaining:    9.9s\u001b[0m\n",
      "\u001b[34m[Parallel(n_jobs=30)]: Done  30 out of  30 | elapsed:    1.1s finished\u001b[0m\n",
      "\u001b[34m[Parallel(n_jobs=30)]: Using backend ThreadingBackend with 30 concurrent workers.\u001b[0m\n",
      "\u001b[34m[Parallel(n_jobs=30)]: Done   2 out of  30 | elapsed:    0.0s remaining:    0.6s\u001b[0m\n",
      "\u001b[34m[Parallel(n_jobs=30)]: Done  30 out of  30 | elapsed:    0.1s finished\u001b[0m\n",
      "\u001b[34mIteration=10; train_f1=0.998470; test_f1=0.996337;\u001b[0m\n",
      "\u001b[34mTraining...\u001b[0m\n",
      "\u001b[34m[Parallel(n_jobs=-1)]: Using backend ThreadingBackend with 36 concurrent workers.\u001b[0m\n",
      "\u001b[34m[Parallel(n_jobs=-1)]: Done  21 out of  30 | elapsed:   16.1s remaining:    6.9s\u001b[0m\n",
      "\u001b[34m[Parallel(n_jobs=-1)]: Done  30 out of  30 | elapsed:   19.3s finished\u001b[0m\n",
      "\u001b[34mDone! Computing scores...\u001b[0m\n",
      "\u001b[34m[Parallel(n_jobs=30)]: Using backend ThreadingBackend with 30 concurrent workers.\u001b[0m\n",
      "\u001b[34m[Parallel(n_jobs=30)]: Done   2 out of  30 | elapsed:    0.7s remaining:    9.8s\u001b[0m\n",
      "\u001b[34m[Parallel(n_jobs=30)]: Done  30 out of  30 | elapsed:    1.1s finished\u001b[0m\n",
      "\u001b[34m[Parallel(n_jobs=30)]: Using backend ThreadingBackend with 30 concurrent workers.\u001b[0m\n",
      "\u001b[34m[Parallel(n_jobs=30)]: Done   2 out of  30 | elapsed:    0.0s remaining:    0.6s\u001b[0m\n",
      "\u001b[34m[Parallel(n_jobs=30)]: Done  30 out of  30 | elapsed:    0.1s finished\u001b[0m\n",
      "\u001b[34mIteration=11; train_f1=0.998404; test_f1=0.997072;\n",
      "\u001b[0m\n",
      "\u001b[34mSaving the best model: best_f1=1.000000;\u001b[0m\n",
      "\u001b[34m2020-10-01 16:32:23,049 sagemaker-training-toolkit INFO     Reporting training SUCCESS\u001b[0m\n",
      "\n",
      "2020-10-01 16:32:32 Uploading - Uploading generated training model\n",
      "2020-10-01 16:32:32 Completed - Training job completed\n"
     ]
    },
    {
     "name": "stdout",
     "output_type": "stream",
     "text": [
      "Training seconds: 429\n",
      "Billable seconds: 429\n"
     ]
    }
   ],
   "source": [
    "estimator.fit({'train': train_input})"
   ]
  },
  {
   "cell_type": "markdown",
   "metadata": {},
   "source": [
    "### Finally we can deploy our model and test it\n",
    "Iteration=1; train_f1=0.998070; test_f1=1.000000;"
   ]
  },
  {
   "cell_type": "code",
   "execution_count": 15,
   "metadata": {},
   "outputs": [
    {
     "name": "stderr",
     "output_type": "stream",
     "text": [
      "Parameter image will be renamed to image_uri in SageMaker Python SDK v2.\n"
     ]
    },
    {
     "name": "stdout",
     "output_type": "stream",
     "text": [
      "-----------------!"
     ]
    }
   ],
   "source": [
    "# Deploy my estimator to a SageMaker Endpoint and get a Predictor\n",
    "from sagemaker.predictor import json_serializer, json_deserializer\n",
    "\n",
    "predictor = estimator.deploy(instance_type='ml.m4.xlarge', initial_instance_count=1)\n",
    "\n",
    "predictor.serializer = json_serializer\n",
    "predictor.deserializer = json_deserializer\n",
    "predictor.accept = 'application/json'\n",
    "predictor.content_type = 'application/json'"
   ]
  },
  {
   "cell_type": "code",
   "execution_count": 17,
   "metadata": {},
   "outputs": [],
   "source": [
    "import pandas as pd\n",
    "names = ['isFraud', 'type', 'amount', 'oldbalanceOrg', 'newbalanceOrig', 'oldbalanceDest',    \n",
    "        'newbalanceDest', 'hour', 'dayOfMonth', 'isMerchantDest',\n",
    "        'errorBalanceOrig', 'errorBalanceDest' ]\n",
    "df_test = pd.read_csv('data/train.csv', header=None, names=names)\n",
    "y = df_test.iloc[:, 0].values\n",
    "X = df_test.iloc[:, 1:].values"
   ]
  },
  {
   "cell_type": "code",
   "execution_count": 38,
   "metadata": {},
   "outputs": [
    {
     "name": "stdout",
     "output_type": "stream",
     "text": [
      "Correct Predictions: 10000/10000\n",
      "CPU times: user 66 ms, sys: 0 ns, total: 66 ms\n",
      "Wall time: 304 ms\n"
     ]
    }
   ],
   "source": [
    "%%time\n",
    "import random\n",
    "import numpy as np\n",
    "num_elements = 1000\n",
    "iterations = 10\n",
    "correct_predictions = 0\n",
    "for i in range(iterations):\n",
    "    idx = random.randint(0, len(X)-num_elements)\n",
    "    y_test, X_test = y[idx:idx+num_elements], X[idx:idx+num_elements]\n",
    "    preds = predictor.predict(X_test)\n",
    "    correct_predictions += np.sum(np.equal(y_test, preds))\n",
    "print(\"Correct Predictions: %d/%d\" % (correct_predictions, iterations*num_elements ))"
   ]
  },
  {
   "cell_type": "markdown",
   "metadata": {},
   "source": [
    "## Check the feature importance, now\n",
    "First, download the model"
   ]
  },
  {
   "cell_type": "code",
   "execution_count": 19,
   "metadata": {},
   "outputs": [
    {
     "name": "stdout",
     "output_type": "stream",
     "text": [
      "model.joblib\r\n"
     ]
    }
   ],
   "source": [
    "import joblib\n",
    "import pandas as pd\n",
    "import matplotlib.pyplot as plt\n",
    "from sklearn.metrics import r2_score\n",
    "\n",
    "tokens = estimator.model_data.split('/', 3)\n",
    "sagemaker_session.download_data('.', tokens[2], tokens[3])\n",
    "!tar -xzvf model.tar.gz\n",
    "model = joblib.load(\"model.joblib\")"
   ]
  },
  {
   "cell_type": "code",
   "execution_count": 21,
   "metadata": {},
   "outputs": [
    {
     "data": {
      "image/png": "[encoded data removed]",
      "text/plain": [
       "<Figure size 1440x720 with 1 Axes>"
      ]
     },
     "metadata": {
      "needs_background": "light"
     },
     "output_type": "display_data"
    }
   ],
   "source": [
    "importances = model.feature_importances_\n",
    "\n",
    "std = np.std([tree.feature_importances_ for tree in model.estimators_], axis=0)\n",
    "indices = np.argsort(importances)[::-1]\n",
    "labels = df_test.columns[1:]\n",
    "\n",
    "# Print the feature ranking\n",
    "plt.figure(figsize=(20,10))\n",
    "plt.title(\"Feature importances\")\n",
    "plt.bar(labels[indices], importances[indices], color=\"r\", yerr=std[indices], align=\"center\")\n",
    "plt.xticks(indices, labels[indices])\n",
    "plt.xlim([-1, len(indices)])\n",
    "plt.show()"
   ]
  },
  {
   "cell_type": "code",
   "execution_count": 25,
   "metadata": {},
   "outputs": [
    {
     "name": "stderr",
     "output_type": "stream",
     "text": [
      "[Parallel(n_jobs=8)]: Using backend ThreadingBackend with 8 concurrent workers.\n",
      "[Parallel(n_jobs=8)]: Done  30 out of  30 | elapsed:    2.0s finished\n"
     ]
    },
    {
     "data": {
      "text/html": [
       "<div>\n",
       "<style scoped>\n",
       "    .dataframe tbody tr th:only-of-type {\n",
       "        vertical-align: middle;\n",
       "    }\n",
       "\n",
       "    .dataframe tbody tr th {\n",
       "        vertical-align: top;\n",
       "    }\n",
       "\n",
       "    .dataframe thead th {\n",
       "        text-align: right;\n",
       "    }\n",
       "</style>\n",
       "<table border=\"1\" class=\"dataframe\">\n",
       "  <thead>\n",
       "    <tr style=\"text-align: right;\">\n",
       "      <th></th>\n",
       "      <th>isFraud</th>\n",
       "      <th>type</th>\n",
       "      <th>amount</th>\n",
       "      <th>oldbalanceOrg</th>\n",
       "      <th>newbalanceOrig</th>\n",
       "      <th>oldbalanceDest</th>\n",
       "      <th>newbalanceDest</th>\n",
       "      <th>hour</th>\n",
       "      <th>dayOfMonth</th>\n",
       "      <th>isMerchantDest</th>\n",
       "      <th>errorBalanceOrig</th>\n",
       "      <th>errorBalanceDest</th>\n",
       "      <th>isFraudPred</th>\n",
       "    </tr>\n",
       "  </thead>\n",
       "  <tbody>\n",
       "    <tr>\n",
       "      <th>0</th>\n",
       "      <td>0</td>\n",
       "      <td>3</td>\n",
       "      <td>9839.64</td>\n",
       "      <td>170136.0</td>\n",
       "      <td>160296.36</td>\n",
       "      <td>0.0</td>\n",
       "      <td>0.0</td>\n",
       "      <td>1</td>\n",
       "      <td>1</td>\n",
       "      <td>1</td>\n",
       "      <td>0.0</td>\n",
       "      <td>9839.64</td>\n",
       "      <td>0</td>\n",
       "    </tr>\n",
       "    <tr>\n",
       "      <th>1</th>\n",
       "      <td>0</td>\n",
       "      <td>3</td>\n",
       "      <td>1864.28</td>\n",
       "      <td>21249.0</td>\n",
       "      <td>19384.72</td>\n",
       "      <td>0.0</td>\n",
       "      <td>0.0</td>\n",
       "      <td>1</td>\n",
       "      <td>1</td>\n",
       "      <td>1</td>\n",
       "      <td>0.0</td>\n",
       "      <td>1864.28</td>\n",
       "      <td>0</td>\n",
       "    </tr>\n",
       "    <tr>\n",
       "      <th>2</th>\n",
       "      <td>1</td>\n",
       "      <td>4</td>\n",
       "      <td>181.00</td>\n",
       "      <td>181.0</td>\n",
       "      <td>0.00</td>\n",
       "      <td>0.0</td>\n",
       "      <td>0.0</td>\n",
       "      <td>1</td>\n",
       "      <td>1</td>\n",
       "      <td>0</td>\n",
       "      <td>0.0</td>\n",
       "      <td>181.00</td>\n",
       "      <td>1</td>\n",
       "    </tr>\n",
       "    <tr>\n",
       "      <th>3</th>\n",
       "      <td>1</td>\n",
       "      <td>1</td>\n",
       "      <td>181.00</td>\n",
       "      <td>181.0</td>\n",
       "      <td>0.00</td>\n",
       "      <td>21182.0</td>\n",
       "      <td>0.0</td>\n",
       "      <td>1</td>\n",
       "      <td>1</td>\n",
       "      <td>0</td>\n",
       "      <td>0.0</td>\n",
       "      <td>21363.00</td>\n",
       "      <td>1</td>\n",
       "    </tr>\n",
       "    <tr>\n",
       "      <th>4</th>\n",
       "      <td>0</td>\n",
       "      <td>3</td>\n",
       "      <td>11668.14</td>\n",
       "      <td>41554.0</td>\n",
       "      <td>29885.86</td>\n",
       "      <td>0.0</td>\n",
       "      <td>0.0</td>\n",
       "      <td>1</td>\n",
       "      <td>1</td>\n",
       "      <td>1</td>\n",
       "      <td>0.0</td>\n",
       "      <td>11668.14</td>\n",
       "      <td>0</td>\n",
       "    </tr>\n",
       "  </tbody>\n",
       "</table>\n",
       "</div>"
      ],
      "text/plain": [
       "   isFraud  type    amount  oldbalanceOrg  newbalanceOrig  oldbalanceDest  \\\n",
       "0        0     3   9839.64       170136.0       160296.36             0.0   \n",
       "1        0     3   1864.28        21249.0        19384.72             0.0   \n",
       "2        1     4    181.00          181.0            0.00             0.0   \n",
       "3        1     1    181.00          181.0            0.00         21182.0   \n",
       "4        0     3  11668.14        41554.0        29885.86             0.0   \n",
       "\n",
       "   newbalanceDest  hour  dayOfMonth  isMerchantDest  errorBalanceOrig  \\\n",
       "0             0.0     1           1               1               0.0   \n",
       "1             0.0     1           1               1               0.0   \n",
       "2             0.0     1           1               0               0.0   \n",
       "3             0.0     1           1               0               0.0   \n",
       "4             0.0     1           1               1               0.0   \n",
       "\n",
       "   errorBalanceDest  isFraudPred  \n",
       "0           9839.64            0  \n",
       "1           1864.28            0  \n",
       "2            181.00            1  \n",
       "3          21363.00            1  \n",
       "4          11668.14            0  "
      ]
     },
     "execution_count": 25,
     "metadata": {},
     "output_type": "execute_result"
    }
   ],
   "source": [
    "df_pred = df_test.copy()\n",
    "df_pred['isFraudPred'] = model.predict(X)\n",
    "df_pred.head()"
   ]
  },
  {
   "cell_type": "code",
   "execution_count": 32,
   "metadata": {},
   "outputs": [
    {
     "name": "stdout",
     "output_type": "stream",
     "text": [
      "Score 99.82%\n"
     ]
    },
    {
     "data": {
      "text/plain": [
       "<matplotlib.axes._subplots.AxesSubplot at 0x7f5f47e72e48>"
      ]
     },
     "execution_count": 32,
     "metadata": {},
     "output_type": "execute_result"
    },
    {
     "data": {
      "image/png": "[encoded data removed]",
      "text/plain": [
       "<Figure size 1080x576 with 2 Axes>"
      ]
     },
     "metadata": {
      "needs_background": "light"
     },
     "output_type": "display_data"
    }
   ],
   "source": [
    "from sklearn.metrics import f1_score, confusion_matrix\n",
    "import seaborn as sns\n",
    "y_test = df_pred.isFraud.values\n",
    "y_pred = df_pred.isFraudPred.values\n",
    "print(\"Score %.02f%%\" % (f1_score(y_test, y_pred) * 100))\n",
    "cnf_matrix = confusion_matrix(y_test, y_pred)\n",
    "f, ax = plt.subplots(figsize=(15, 8))\n",
    "sns.heatmap(cnf_matrix, annot=True, fmt=\"f\", mask=np.zeros_like(cnf_matrix, dtype=np.bool), \n",
    "            cmap=sns.diverging_palette(220, 10, as_cmap=True),\n",
    "            square=True, ax=ax)\n"
   ]
  },
  {
   "cell_type": "code",
   "execution_count": null,
   "metadata": {},
   "outputs": [],
   "source": [
    "predictor.delete_endpoint()"
   ]
  }
 ],
 "metadata": {
  "kernelspec": {
   "display_name": "conda_python3",
   "language": "python",
   "name": "conda_python3"
  },
  "language_info": {
   "codemirror_mode": {
    "name": "ipython",
    "version": 3
   },
   "file_extension": ".py",
   "mimetype": "text/x-python",
   "name": "python",
   "nbconvert_exporter": "python",
   "pygments_lexer": "ipython3",
   "version": "3.6.10"
  }
 },
 "nbformat": 4,
 "nbformat_minor": 2
}
