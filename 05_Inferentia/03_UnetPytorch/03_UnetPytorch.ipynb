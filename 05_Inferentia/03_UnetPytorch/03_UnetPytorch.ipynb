{
 "cells": [
  {
   "cell_type": "markdown",
   "id": "1f060c39",
   "metadata": {},
   "source": [
    "# Unet Pytorch for Inferentia (NeuronSDK)\n",
    "In this example, you'll see how to compile a public implementation of an Unet Model created for Pytorch to Inferentia (inf1 instances)"
   ]
  },
  {
   "cell_type": "code",
   "execution_count": null,
   "id": "3c27e983",
   "metadata": {
    "scrolled": true
   },
   "outputs": [],
   "source": [
    "# if necessary\n",
    "!pip install neuron-cc[torch] "
   ]
  },
  {
   "cell_type": "markdown",
   "id": "bef3939b",
   "metadata": {},
   "source": [
    "### Get Unet for Pytorch from Github\n",
    "This is a public implementation of the model"
   ]
  },
  {
   "cell_type": "code",
   "execution_count": 2,
   "id": "3b5167c7",
   "metadata": {},
   "outputs": [
    {
     "name": "stdout",
     "output_type": "stream",
     "text": [
      "Cloning into 'unet'...\n",
      "remote: Enumerating objects: 28, done.\u001b[K\n",
      "remote: Total 28 (delta 0), reused 0 (delta 0), pack-reused 28\u001b[K\n",
      "Receiving objects: 100% (28/28), 42.01 KiB | 2.33 MiB/s, done.\n",
      "Resolving deltas: 100% (12/12), done.\n"
     ]
    }
   ],
   "source": [
    "!git clone https://github.com/jaxony/unet-pytorch unet"
   ]
  },
  {
   "cell_type": "markdown",
   "id": "01336214",
   "metadata": {},
   "source": [
    "### Import common libraries"
   ]
  },
  {
   "cell_type": "code",
   "execution_count": 22,
   "id": "b69b29ca",
   "metadata": {},
   "outputs": [
    {
     "data": {
      "text/plain": [
       "'1.10.2+cu102'"
      ]
     },
     "execution_count": 22,
     "metadata": {},
     "output_type": "execute_result"
    }
   ],
   "source": [
    "import sys\n",
    "sys.path.insert(0, 'unet')\n",
    "import torch\n",
    "import numpy as np\n",
    "from model import UNet\n",
    "from torch.autograd import Variable\n",
    "torch.__version__"
   ]
  },
  {
   "cell_type": "markdown",
   "id": "70760ef6",
   "metadata": {},
   "source": [
    "### Intialize a model with random weights\n",
    "--> You need to train the model first to get something useful. In this example we're just testing compatibility + performance"
   ]
  },
  {
   "cell_type": "code",
   "execution_count": 23,
   "id": "d9330686",
   "metadata": {},
   "outputs": [
    {
     "name": "stderr",
     "output_type": "stream",
     "text": [
      "unet/model.py:211: UserWarning: nn.init.xavier_normal is now deprecated in favor of nn.init.xavier_normal_.\n",
      "  init.xavier_normal(m.weight)\n",
      "unet/model.py:212: UserWarning: nn.init.constant is now deprecated in favor of nn.init.constant_.\n",
      "  init.constant(m.bias, 0)\n"
     ]
    }
   ],
   "source": [
    "model = UNet(3, depth=5, merge_mode='concat').eval()\n",
    "x = torch.rand(1, 3, 320, 320)\n",
    "_ = model(x)"
   ]
  },
  {
   "cell_type": "markdown",
   "id": "7ead921b",
   "metadata": {},
   "source": [
    "### Simple benchmark on CPU"
   ]
  },
  {
   "cell_type": "code",
   "execution_count": 24,
   "id": "19e78e6c",
   "metadata": {},
   "outputs": [
    {
     "name": "stdout",
     "output_type": "stream",
     "text": [
      "238 ms ± 8.05 ms per loop (mean ± std. dev. of 7 runs, 10 loops each)\n"
     ]
    }
   ],
   "source": [
    "# test on CPU\n",
    "%timeit model(x)"
   ]
  },
  {
   "cell_type": "markdown",
   "id": "846e8483",
   "metadata": {},
   "source": [
    "### Tracing the model with NeuronSDK"
   ]
  },
  {
   "cell_type": "code",
   "execution_count": 17,
   "id": "6e5764e6",
   "metadata": {},
   "outputs": [
    {
     "name": "stderr",
     "output_type": "stream",
     "text": [
      "INFO:Neuron:All operators are compiled by neuron-cc (this does not guarantee that neuron-cc will successfully compile)\n",
      "INFO:Neuron:Number of arithmetic operators (pre-compilation) before = 49, fused = 49, percent fused = 100.0%\n",
      "INFO:Neuron:Number of neuron graph operations 577 did not match traced graph 569 - using heuristic matching of hierarchical information\n",
      "INFO:Neuron:Compiling function _NeuronGraph$118 with neuron-cc\n",
      "INFO:Neuron:Compiling with command line: '/home/ec2-user/anaconda3/envs/aws_neuron_pytorch_p36/bin/neuron-cc compile /tmp/tmpwx2yvtn7/graph_def.pb --framework TENSORFLOW --pipeline compile SaveTemps --output /tmp/tmpwx2yvtn7/graph_def.neff --io-config {\"inputs\": {\"0:0\": [[1, 3, 320, 320], \"float32\"]}, \"outputs\": [\"Conv2d_32/aten__convolution/transpose_2:0\"]} --verbose debug'\n",
      "INFO:Neuron:skip_inference_context for tensorboard symbols at /home/ec2-user/anaconda3/envs/aws_neuron_pytorch_p36/lib/python3.6/site-packages/torch_neuron/tensorboard.py:305 tb_parse\n",
      "INFO:Neuron:Number of neuron graph operations 577 did not match traced graph 569 - using heuristic matching of hierarchical information\n",
      "INFO:Neuron:Number of arithmetic operators (post-compilation) before = 49, compiled = 49, percent compiled = 100.0%\n",
      "INFO:Neuron:The neuron partitioner created 1 sub-graphs\n",
      "INFO:Neuron:Neuron successfully compiled 1 sub-graphs, Total fused subgraphs = 1, Percent of model sub-graphs successfully compiled = 100.0%\n",
      "INFO:Neuron:Compiled these operators (and operator counts) to Neuron:\n",
      "INFO:Neuron: => aten::_convolution: 23\n",
      "INFO:Neuron: => aten::cat: 4\n",
      "INFO:Neuron: => aten::max_pool2d: 4\n",
      "INFO:Neuron: => aten::relu: 18\n",
      "INFO:Neuron:skip_inference_context for tensorboard symbols at /home/ec2-user/anaconda3/envs/aws_neuron_pytorch_p36/lib/python3.6/site-packages/torch_neuron/tensorboard.py:305 tb_parse\n",
      "INFO:Neuron:Number of neuron graph operations 1 did not match traced graph 4 - using heuristic matching of hierarchical information\n"
     ]
    }
   ],
   "source": [
    "import torch.neuron\n",
    "neuron_model = torch.neuron.trace(\n",
    "    model,\n",
    "    x,\n",
    "    verbose='debug'\n",
    ")"
   ]
  },
  {
   "cell_type": "code",
   "execution_count": 18,
   "id": "ffa61779",
   "metadata": {},
   "outputs": [],
   "source": [
    "neuron_model.save('unet.pt')"
   ]
  },
  {
   "cell_type": "markdown",
   "id": "d718ace4",
   "metadata": {},
   "source": [
    "### Load the model from disk to see if it worked"
   ]
  },
  {
   "cell_type": "code",
   "execution_count": 26,
   "id": "fb1ff6e6",
   "metadata": {},
   "outputs": [],
   "source": [
    "neuron_model = torch.load('unet.pt')\n",
    "_=neuron_model.eval()\n",
    "# warmup\n",
    "_=neuron_model(x)"
   ]
  },
  {
   "cell_type": "markdown",
   "id": "8ab2cd6a",
   "metadata": {},
   "source": [
    "### Simple benchmark on 1 core of the Inf1 instance"
   ]
  },
  {
   "cell_type": "code",
   "execution_count": 27,
   "id": "308ce562",
   "metadata": {},
   "outputs": [
    {
     "name": "stdout",
     "output_type": "stream",
     "text": [
      "16.5 ms ± 72.2 µs per loop (mean ± std. dev. of 7 runs, 100 loops each)\n"
     ]
    }
   ],
   "source": [
    "%timeit neuron_model(x)"
   ]
  },
  {
   "cell_type": "code",
   "execution_count": null,
   "id": "ad5b0df8",
   "metadata": {},
   "outputs": [],
   "source": []
  }
 ],
 "metadata": {
  "kernelspec": {
   "display_name": "Environment (conda_aws_neuron_pytorch_p36)",
   "language": "python",
   "name": "conda_aws_neuron_pytorch_p36"
  },
  "language_info": {
   "codemirror_mode": {
    "name": "ipython",
    "version": 3
   },
   "file_extension": ".py",
   "mimetype": "text/x-python",
   "name": "python",
   "nbconvert_exporter": "python",
   "pygments_lexer": "ipython3",
   "version": "3.6.13"
  }
 },
 "nbformat": 4,
 "nbformat_minor": 5
}
