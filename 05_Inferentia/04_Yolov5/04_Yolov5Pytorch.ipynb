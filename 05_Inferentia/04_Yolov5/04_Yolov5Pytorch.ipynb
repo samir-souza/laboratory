{
 "cells": [
  {
   "cell_type": "markdown",
   "id": "5adbf48a",
   "metadata": {},
   "source": [
    "# Yolov5 Pytorch\n",
    "This notebook shows how to compile Yolov5/Pytorch to AWS Inferentia (inf1 instances) using NeuronSDK.\n",
    "\n",
    "**Reference:** https://pytorch.org/hub/ultralytics_yolov5/"
   ]
  },
  {
   "cell_type": "markdown",
   "id": "c1405156",
   "metadata": {},
   "source": [
    "### Install dependencies"
   ]
  },
  {
   "cell_type": "code",
   "execution_count": null,
   "id": "b566b852",
   "metadata": {
    "scrolled": true
   },
   "outputs": [],
   "source": [
    "# Set Pip repository  to point to the Neuron repository\n",
    "%pip config set global.extra-index-url https://pip.repos.neuron.amazonaws.com\n",
    "# now restart the kernel"
   ]
  },
  {
   "cell_type": "code",
   "execution_count": null,
   "id": "eeecff4a",
   "metadata": {
    "scrolled": true
   },
   "outputs": [],
   "source": [
    "%pip install -r https://raw.githubusercontent.com/ultralytics/yolov5/master/requirements.txt  # install dependencies"
   ]
  },
  {
   "cell_type": "code",
   "execution_count": null,
   "id": "959dbb57",
   "metadata": {
    "scrolled": true
   },
   "outputs": [],
   "source": [
    "#Install Neuron PyTorch\n",
    "%pip install -U torch-neuron==1.10.1.2.2.0.0 neuron-cc[tensorflow] \"protobuf<4\" torchvision\n",
    "# use --force-reinstall if you're facing some issues while loading the modules\n",
    "# now restart the kernel again"
   ]
  },
  {
   "cell_type": "markdown",
   "id": "38dc61a9",
   "metadata": {},
   "source": [
    "### Now load a pre-trained model from model zoo and compile it"
   ]
  },
  {
   "cell_type": "code",
   "execution_count": null,
   "id": "83207c67",
   "metadata": {
    "scrolled": true
   },
   "outputs": [],
   "source": [
    "import torch\n",
    "import torch_neuron\n",
    "from torchvision import models\n",
    "\n",
    "model_type='l'\n",
    "assert(model_type in ['n', 's', 'm', 'l', 'x'])\n",
    "# Model\n",
    "model = torch.hub.load('ultralytics/yolov5', f'yolov5{model_type}', pretrained=True)\n",
    "model.eval()\n",
    "\n",
    "x = torch.rand([1, 3, 640, 640], dtype=torch.float32)\n",
    "y = model(x)\n",
    "\n",
    "traced_model = torch.jit.trace(model, x) # check if it is traceable"
   ]
  },
  {
   "cell_type": "markdown",
   "id": "2df403bb",
   "metadata": {},
   "source": [
    "### Analyze it to see if it is compatible with NeuronSDK"
   ]
  },
  {
   "cell_type": "code",
   "execution_count": null,
   "id": "a0144edc",
   "metadata": {
    "scrolled": true
   },
   "outputs": [],
   "source": [
    "torch.neuron.analyze_model(model, example_inputs=x)"
   ]
  },
  {
   "cell_type": "markdown",
   "id": "bac2a5db",
   "metadata": {},
   "source": [
    "### Now, compile the model for Inferentia"
   ]
  },
  {
   "cell_type": "code",
   "execution_count": null,
   "id": "c8f954f7",
   "metadata": {
    "scrolled": false
   },
   "outputs": [],
   "source": [
    "model_neuron = torch.neuron.trace(\n",
    "    model, \n",
    "    example_inputs=x,\n",
    "    skip_compiler=False, \n",
    "    dynamic_batch_size=False,\n",
    "    verbose='debug',\n",
    "    compiler_workdir=\"logs/\"\n",
    ")\n",
    "\n",
    "## Export to saved model\n",
    "model_neuron.save(\"yolov5_neuron.pt\")"
   ]
  },
  {
   "cell_type": "markdown",
   "id": "5b89477b",
   "metadata": {},
   "source": [
    "### A quick test"
   ]
  },
  {
   "cell_type": "code",
   "execution_count": null,
   "id": "d3113a64",
   "metadata": {
    "scrolled": true
   },
   "outputs": [],
   "source": [
    "y = model_neuron(x)\n",
    "%timeit model_neuron(x)"
   ]
  },
  {
   "cell_type": "markdown",
   "id": "7bb191d8",
   "metadata": {},
   "source": [
    "### Finally, a test with a real image\n",
    "This code computes the bounding boxes+classes+confidence of each object. These functions need to be kept outside the model to keep the compatibility with NeuronSDK."
   ]
  },
  {
   "cell_type": "code",
   "execution_count": null,
   "id": "5a1d2370",
   "metadata": {
    "scrolled": true
   },
   "outputs": [],
   "source": [
    "%matplotlib inline\n",
    "import sys\n",
    "if '..' not in sys.path: sys.path.append('..')\n",
    "import torch\n",
    "import torch.neuron\n",
    "import matplotlib.pyplot as plt\n",
    "from common import processing\n",
    "\n",
    "img = processing.load_sample_imgB()\n",
    "model_neuron = torch.load('yolov5_neuron.pt')\n",
    "\n",
    "x = processing.preprocess_coco(img)\n",
    "x = torch.from_numpy(x)\n",
    "\n",
    "y = model_neuron(x)\n",
    "out_img = processing.postprocess_yolov5(y, img)\n",
    "\n",
    "plt.figure(figsize=(10,10))\n",
    "plt.imshow(out_img)"
   ]
  }
 ],
 "metadata": {
  "kernelspec": {
   "display_name": "Environment (conda_aws_neuron_pytorch_p36)",
   "language": "python",
   "name": "conda_aws_neuron_pytorch_p36"
  },
  "language_info": {
   "codemirror_mode": {
    "name": "ipython",
    "version": 3
   },
   "file_extension": ".py",
   "mimetype": "text/x-python",
   "name": "python",
   "nbconvert_exporter": "python",
   "pygments_lexer": "ipython3",
   "version": "3.6.13"
  }
 },
 "nbformat": 4,
 "nbformat_minor": 5
}
