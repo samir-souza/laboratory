{
 "cells": [
  {
   "cell_type": "markdown",
   "id": "f11406f1-58b2-4590-9bd1-9e3e1842595d",
   "metadata": {},
   "source": [
    "# Replacing weights of a traced/loaded model on-the-fly\n",
    "\n",
    "There are some scenarios where you need to change the weights of a loaded model on-the-fly to consume less time with I/O, hardware initialization, etc. In PyTorch, there is a well defined way of manipulating weights of a model and we're going to explore that as well. The only thing we need to pay attention is on the way we load the new weights and to which device we should move the tensors befor trying to replace them in a model loaded into Inferentia2/Trainium HBM."
   ]
  },
  {
   "cell_type": "code",
   "execution_count": null,
   "id": "e07bd764-872d-4467-bf06-a7a82757206c",
   "metadata": {},
   "outputs": [],
   "source": [
    "import os\n",
    "os.environ['NEURON_RT_NUM_CORES']='1'\n",
    "import torch\n",
    "import torch.nn as nn\n",
    "import torch_neuronx"
   ]
  },
  {
   "cell_type": "markdown",
   "id": "b3434fe9-ce4a-437e-a396-77fb52a6ee9f",
   "metadata": {},
   "source": [
    "### 1) First, let's create a dummy model with a simple linear layer"
   ]
  },
  {
   "cell_type": "code",
   "execution_count": 3,
   "id": "ea0fb2fb-e081-40cd-b3cf-a776b22164b5",
   "metadata": {},
   "outputs": [
    {
     "name": "stdout",
     "output_type": "stream",
     "text": [
      "Tracing model...\n",
      ".\n",
      "Compiler status PASS\n"
     ]
    }
   ],
   "source": [
    "x = torch.rand(2, 4)\n",
    "if os.path.isfile(\"linear.pt\"):\n",
    "    print(\"Loading model from disk\")\n",
    "    traced_model = torch.jit.load(\"linear.pt\")\n",
    "else:\n",
    "    print(\"Tracing model...\")\n",
    "    model = nn.Linear(4, 4, bias=False)\n",
    "    _= torch.nn.init.xavier_uniform_(model.weight)\n",
    "    y = model(x)\n",
    "    traced_model = torch_neuronx.trace(model, x, inline_weights_to_neff=False) # inline_weights = False is required for replacing weights on-the-fly\n",
    "    traced_model.save(\"linear.pt\")"
   ]
  },
  {
   "cell_type": "markdown",
   "id": "f7df37c5-2139-4079-bc2f-9f1d2c596ecb",
   "metadata": {},
   "source": [
    "#### Special device\n",
    "Now, we need to use a special device called **privateuseone** where we load our tensors. This special device will make use of Inferentia HBM, so in the end you have a tensor loaded into the accelerated memory, ready to be used."
   ]
  },
  {
   "cell_type": "code",
   "execution_count": 4,
   "id": "49f4e6fd-d491-4adc-a250-bd56b49f31a8",
   "metadata": {},
   "outputs": [],
   "source": [
    "x = x.to(\"privateuseone:0\")"
   ]
  },
  {
   "cell_type": "markdown",
   "id": "f5c24ef5-b2a2-4cb0-8246-9323388ab735",
   "metadata": {},
   "source": [
    "### 2) Then we execute it to see the results"
   ]
  },
  {
   "cell_type": "code",
   "execution_count": 5,
   "id": "910a5169-153c-4e75-80af-77b6ea33bfc9",
   "metadata": {},
   "outputs": [
    {
     "data": {
      "text/plain": [
       "tensor([[ 0.4002, -0.0553,  0.7019,  0.6522],\n",
       "        [ 0.0463,  0.1206,  1.0582, -0.6579]])"
      ]
     },
     "execution_count": 5,
     "metadata": {},
     "output_type": "execute_result"
    }
   ],
   "source": [
    "y = traced_model(x)\n",
    "y"
   ]
  },
  {
   "cell_type": "markdown",
   "id": "0fb356b7-4de1-434a-a965-062d8b9bdc6e",
   "metadata": {},
   "source": [
    "### 3) Now, let's create a new set of weights and replace the original/loaded ones from our model\n",
    "In this step, we'll replace all the weights of our model. You'll see in the results completely different values. Please notice we didn't reload our model. Only the weights were replaced."
   ]
  },
  {
   "cell_type": "code",
   "execution_count": 9,
   "id": "37ed2e48-d1f5-4bbb-a460-ab7df922feb4",
   "metadata": {},
   "outputs": [],
   "source": [
    "new_weights = torch.rand(4, 4).to(\"privateuseone:0\")\n",
    "_= torch.nn.init.xavier_uniform_(new_weights)"
   ]
  },
  {
   "cell_type": "code",
   "execution_count": 10,
   "id": "ac0b4005-22e3-4c98-b159-c616ac1301f4",
   "metadata": {},
   "outputs": [],
   "source": [
    "torch_neuronx.replace_weights(traced_model, {\"weight\": new_weights} )"
   ]
  },
  {
   "cell_type": "code",
   "execution_count": 11,
   "id": "55ff9e15-bad1-4907-9c08-1bb0d7b5e6dd",
   "metadata": {},
   "outputs": [
    {
     "data": {
      "text/plain": [
       "tensor([[ 0.1614,  0.1684, -0.1753, -0.0212],\n",
       "        [ 0.3497,  0.2425, -0.2417, -0.1437]])"
      ]
     },
     "execution_count": 11,
     "metadata": {},
     "output_type": "execute_result"
    }
   ],
   "source": [
    "y = traced_model(x)\n",
    "y.cpu()"
   ]
  },
  {
   "cell_type": "markdown",
   "id": "36fbe056-d222-4cf4-b5b9-214882f66ee6",
   "metadata": {},
   "source": [
    "### 4) Finally, let's create a new set of weights, but this time we'll replace only a fraction of the model weights"
   ]
  },
  {
   "cell_type": "code",
   "execution_count": 12,
   "id": "ff91d474-bb50-44bc-8d3f-6dc2253347ab",
   "metadata": {},
   "outputs": [],
   "source": [
    "new_weights = torch.rand(1, 2).to(\"privateuseone:0\")\n",
    "_= torch.nn.init.xavier_uniform_(new_weights)"
   ]
  },
  {
   "cell_type": "code",
   "execution_count": 13,
   "id": "7beeeda3-039e-4936-a517-5c5b971ee564",
   "metadata": {},
   "outputs": [
    {
     "data": {
      "text/plain": [
       "tensor([[-0.0263,  0.2754,  0.4246, -0.0604],\n",
       "        [ 0.5144, -0.3213, -0.2463,  0.3047],\n",
       "        [-0.3655,  0.2371, -0.0809, -0.1804],\n",
       "        [-0.4069,  0.3934, -0.4091,  0.0616]])"
      ]
     },
     "execution_count": 13,
     "metadata": {},
     "output_type": "execute_result"
    }
   ],
   "source": [
    "model_weights = traced_model.weights._parameters['weight']\n",
    "model_weights.cpu()"
   ]
  },
  {
   "cell_type": "code",
   "execution_count": 14,
   "id": "3060ee9b-5fa0-4cc0-8251-5d15b314b11e",
   "metadata": {},
   "outputs": [
    {
     "data": {
      "text/plain": [
       "tensor([[-0.0338, -0.5757,  0.4246, -0.0604],\n",
       "        [ 0.5144, -0.3213, -0.2463,  0.3047],\n",
       "        [-0.3655,  0.2371, -0.0809, -0.1804],\n",
       "        [-0.4069,  0.3934, -0.4091,  0.0616]])"
      ]
     },
     "execution_count": 14,
     "metadata": {},
     "output_type": "execute_result"
    }
   ],
   "source": [
    "model_weights[0,:2] = new_weights\n",
    "traced_model.weights._parameters['weight'] = model_weights\n",
    "traced_model.weights._parameters['weight'].cpu()"
   ]
  },
  {
   "cell_type": "markdown",
   "id": "2e757f82-5aa9-491b-b3e7-1452a3aa0a48",
   "metadata": {},
   "source": [
    "As you can see in the printed set of weights above, only the 1st 2 elements of row 0 were replaced. And you get different predictions, off course."
   ]
  },
  {
   "cell_type": "code",
   "execution_count": 16,
   "id": "6bb02ec4-a450-421b-8025-33c362c64122",
   "metadata": {},
   "outputs": [
    {
     "data": {
      "text/plain": [
       "tensor([[-0.0507,  0.1684, -0.1753, -0.0212],\n",
       "        [-0.4138,  0.2425, -0.2417, -0.1437]])"
      ]
     },
     "execution_count": 16,
     "metadata": {},
     "output_type": "execute_result"
    }
   ],
   "source": [
    "y = traced_model(x)\n",
    "y.cpu()"
   ]
  },
  {
   "cell_type": "code",
   "execution_count": null,
   "id": "6516eca6-92a7-4dbc-b902-1d925a818454",
   "metadata": {},
   "outputs": [],
   "source": []
  }
 ],
 "metadata": {
  "kernelspec": {
   "display_name": "Python 3 (ipykernel)",
   "language": "python",
   "name": "python3"
  },
  "language_info": {
   "codemirror_mode": {
    "name": "ipython",
    "version": 3
   },
   "file_extension": ".py",
   "mimetype": "text/x-python",
   "name": "python",
   "nbconvert_exporter": "python",
   "pygments_lexer": "ipython3",
   "version": "3.10.12"
  }
 },
 "nbformat": 4,
 "nbformat_minor": 5
}
