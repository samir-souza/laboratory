{
 "cells": [
  {
   "cell_type": "markdown",
   "id": "306b408d",
   "metadata": {},
   "source": [
    "[Moved to a new repo](https://github.com/aws-samples/ml-specialized-hardware/tree/main/tutorials/04_ImageGenerationWithSDXL)"
   ]
  }
],
 "metadata": {
  "kernelspec": {
   "display_name": "Python (torch-neuronx)",
   "language": "python",
   "name": "sdvenv"
  },
  "language_info": {
   "codemirror_mode": {
    "name": "ipython",
    "version": 3
   },
   "file_extension": ".py",
   "mimetype": "text/x-python",
   "name": "python",
   "nbconvert_exporter": "python",
   "pygments_lexer": "ipython3",
   "version": "3.8.10"
  }
 },
 "nbformat": 4,
 "nbformat_minor": 5
}

