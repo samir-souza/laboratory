{
 "cells": [
  {
   "cell_type": "markdown",
   "id": "306b408d",
   "metadata": {},
   "source": [
    "[Moved to a new repo](https://github.com/aws-samples/ml-specialized-hardware/tree/main/tutorials/04_ImageGenerationWithSDXL)"
   ]
  }
]
}

