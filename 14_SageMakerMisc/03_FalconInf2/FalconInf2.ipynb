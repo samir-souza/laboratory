{
 "cells": [
  {
   "cell_type": "markdown",
   "id": "306b408d",
   "metadata": {},
   "source": [
    "# Deploying Falcon 1B Params to Inferentia2"
   ]
  },
  {
   "cell_type": "code",
   "execution_count": null,
   "id": "6f6ad84b",
   "metadata": {},
   "outputs": [],
   "source": [
    "%pip install neuronx-cc==2.* torch-neuronx torchvision transformers==4.26.0 einops==0.6.1"
   ]
  },
  {
   "cell_type": "code",
   "execution_count": null,
   "id": "f0dd078c",
   "metadata": {
    "scrolled": true
   },
   "outputs": [],
   "source": [
    "import types\n",
    "import torch\n",
    "import transformers\n",
    "import torch_neuronx\n",
    "from transformers import AutoTokenizer, AutoModelForCausalLM\n",
    "\n",
    "model_name = \"tiiuae/falcon-rw-1b\"\n",
    "\n",
    "tokenizer = AutoTokenizer.from_pretrained(model_name)\n",
    "tokenizer.pad_token_id = tokenizer.eos_token_id\n",
    "\n",
    "model = transformers.AutoModelForCausalLM.from_pretrained(model_name, trust_remote_code=True).eval()"
   ]
  },
  {
   "cell_type": "code",
   "execution_count": null,
   "id": "5b5ab1a2",
   "metadata": {},
   "outputs": [],
   "source": [
    "def f(self, input_ids, attention_mask):\n",
    "    out = self.forward_(input_ids=input_ids, attention_mask=attention_mask)    \n",
    "    return tuple(out.values())\n",
    "if not hasattr(model, 'forward_'): model.forward_ = model.forward\n",
    "model.forward = types.MethodType(f, model)"
   ]
  },
  {
   "cell_type": "code",
   "execution_count": null,
   "id": "0a79f1c1",
   "metadata": {},
   "outputs": [],
   "source": [
    "import time\n",
    "\n",
    "def get_latency(model, inp):\n",
    "    # warmup\n",
    "    y = model(*inp)\n",
    "\n",
    "    it = 10\n",
    "    t = time.time()\n",
    "    for i in range(it):\n",
    "        y = model(*inp)\n",
    "    print(f\"Elapsed: {(time.time()-t)*1000 / it}ms\")"
   ]
  },
  {
   "cell_type": "code",
   "execution_count": null,
   "id": "7d963417",
   "metadata": {},
   "outputs": [],
   "source": [
    "batch_size=1\n",
    "max_lengths=[16, 32, 64, 128, 256, 512]"
   ]
  },
  {
   "cell_type": "code",
   "execution_count": 8,
   "id": "c974f09b",
   "metadata": {},
   "outputs": [
    {
     "name": "stdout",
     "output_type": "stream",
     "text": [
      "Compiling a model for 16 tokens\n",
      "Elapsed: 31.41317367553711ms\n",
      "Compiling a model for 32 tokens\n",
      "Elapsed: 32.23717212677002ms\n",
      "Compiling a model for 64 tokens\n",
      "Elapsed: 37.833499908447266ms\n",
      "Compiling a model for 128 tokens\n",
      "Elapsed: 41.709065437316895ms\n",
      "Compiling a model for 256 tokens\n",
      "Elapsed: 54.45690155029297ms\n",
      "Compiling a model for 512 tokens\n",
      "Elapsed: 106.57868385314941ms\n"
     ]
    }
   ],
   "source": [
    "import os\n",
    "\n",
    "for max_length in max_lengths:\n",
    "    model_name=f\"falcon_rw_1b_{max_length}_neuron.pt\"\n",
    "    inp = (torch.zeros([batch_size,max_length], dtype=torch.long), \n",
    "           torch.zeros([batch_size,max_length], dtype=torch.long))\n",
    "    \n",
    "    if os.path.isfile(model_name):\n",
    "        print(f\"Model {model_name} already exists\")\n",
    "        neuron_traced = torch.jit.load(model_name)\n",
    "    else:\n",
    "        print(f\"Compiling a model for {max_length} tokens\")\n",
    "        y = model(*inp)\n",
    "\n",
    "        with torch.no_grad():\n",
    "            neuron_traced = torch_neuronx.trace(\n",
    "                model, inp,\n",
    "                compiler_args=[\n",
    "                    #\"--verbose\", \"debug\",            \n",
    "                ]\n",
    "            )\n",
    "            neuron_traced.save(model_name)\n",
    "    get_latency(neuron_traced, inp)"
   ]
  },
  {
   "cell_type": "code",
   "execution_count": null,
   "id": "c3b9c5bd",
   "metadata": {
    "scrolled": true
   },
   "outputs": [],
   "source": [
    "model_name = \"tiiuae/falcon-rw-1b\"\n",
    "pipelineA = transformers.pipeline(\n",
    "    \"text-generation\",\n",
    "    model=model_name,\n",
    "    tokenizer=tokenizer,\n",
    "    #torch_dtype=torch.bfloat16,\n",
    "    trust_remote_code=True,\n",
    "    #device_map=\"auto\",\n",
    ")\n",
    "\n",
    "pipelineB = transformers.pipeline(\n",
    "    \"text-generation\",\n",
    "    model=model_name,\n",
    "    tokenizer=tokenizer,\n",
    "    #torch_dtype=torch.bfloat16,\n",
    "    trust_remote_code=True,\n",
    "    #device_map=\"auto\",\n",
    ")"
   ]
  },
  {
   "cell_type": "code",
   "execution_count": null,
   "id": "2da5f2cc",
   "metadata": {},
   "outputs": [],
   "source": [
    "import types\n",
    "import torch_neuronx\n",
    "import torch.nn.functional as F\n",
    "from transformers.modeling_outputs import CausalLMOutputWithCrossAttentions\n",
    "\n",
    "def reduce(self, logits, index):\n",
    "    _, n_length, _ = logits.shape\n",
    "\n",
    "    # Create selection mask\n",
    "    mask = torch.arange(n_length, dtype=torch.int32) == index\n",
    "    mask = mask.view(1, -1, 1)\n",
    "\n",
    "    # Broadcast mask\n",
    "    masked = torch.multiply(logits, mask.to(torch.float32))\n",
    "\n",
    "    # Reduce along 1st dimension    \n",
    "    return torch.unsqueeze(torch.sum(masked, 1), 1)\n",
    "\n",
    "def f(self, input_ids, past_key_values, attention_mask, use_cache=False, return_dict=False, \n",
    "      output_attentions=None, output_hidden_states=None):\n",
    "    pad_size = self.max_length-input_ids.shape[1]\n",
    "    input_ids = F.pad(input_ids, (0,pad_size), \"constant\", tokenizer.eos_token_id)\n",
    "    attention_mask = F.pad(attention_mask, (0,pad_size), \"constant\", tokenizer.eos_token_id)    \n",
    "    out = self.forward_neuron(input_ids, attention_mask)\n",
    "    return CausalLMOutputWithCrossAttentions(\n",
    "        loss=None, \n",
    "        logits=self.reduce(out[0], out[0].shape[1] - 1 - pad_size ),\n",
    "        past_key_values=out[1]\n",
    "    )"
   ]
  },
  {
   "cell_type": "code",
   "execution_count": null,
   "id": "8622141b",
   "metadata": {},
   "outputs": [
    {
     "name": "stderr",
     "output_type": "stream",
     "text": [
     ]
    },
    {
     "name": "stdout",
     "output_type": "stream",
     "text": [
      "Inf2 - Max length: 16 Elapsed: 227.2557020187378 Sentence: [{'generated_text': \"I've seen things you people wouldn't believe. Attack ships on fire off the\"}]\n"
     ]
    },
    {
     "name": "stderr",
     "output_type": "stream",
     "text": [
     ]
    },
    {
     "name": "stdout",
     "output_type": "stream",
     "text": [
      "CPU - Max length: 16 Elapsed: 748.1178760528564 Sentence: [{'generated_text': \"I've seen things you people wouldn't believe. Attack ships on fire off the\"}]\n"
     ]
    },
    {
     "name": "stderr",
     "output_type": "stream",
     "text": [
     ]
    },
    {
     "name": "stdout",
     "output_type": "stream",
     "text": [
      "Inf2 - Max length: 16 Elapsed: 341.3682699203491 Sentence: [{'generated_text': 'one ring to rule them all.\\nThe ring is a simple design, but'}]\n"
     ]
    },
    {
     "name": "stderr",
     "output_type": "stream",
     "text": [
     ]
    },
    {
     "name": "stdout",
     "output_type": "stream",
     "text": [
      "CPU - Max length: 16 Elapsed: 1083.442735671997 Sentence: [{'generated_text': 'one ring to rule them all.\\nThe ring is a simple design, but'}]\n"
     ]
    },
    {
     "name": "stderr",
     "output_type": "stream",
     "text": [
     ]
    },
    {
     "name": "stdout",
     "output_type": "stream",
     "text": [
      "Inf2 - Max length: 32 Elapsed: 816.6527509689331 Sentence: [{'generated_text': \"I've seen things you people wouldn't believe. Attack ships on fire off the shoulder of Orion. I watched C-beams glitter in the dark near the\"}]\n"
     ]
    },
    {
     "name": "stderr",
     "output_type": "stream",
     "text": [
     ]
    },
    {
     "name": "stdout",
     "output_type": "stream",
     "text": [
      "CPU - Max length: 32 Elapsed: 3051.5047788619995 Sentence: [{'generated_text': \"I've seen things you people wouldn't believe. Attack ships on fire off the shoulder of Orion. I watched C-beams glitter in the dark near the\"}]\n"
     ]
    },
    {
     "name": "stderr",
     "output_type": "stream",
     "text": [
     ]
    },
    {
     "name": "stdout",
     "output_type": "stream",
     "text": [
      "Inf2 - Max length: 32 Elapsed: 929.0792942047119 Sentence: [{'generated_text': 'one ring to rule them all.\\nThe ring is a simple design, but it is a very effective one. It is a simple ring, but it is'}]\n"
     ]
    },
    {
     "name": "stderr",
     "output_type": "stream",
     "text": [
     ]
    },
    {
     "name": "stdout",
     "output_type": "stream",
     "text": [
      "CPU - Max length: 32 Elapsed: 3414.1268253326416 Sentence: [{'generated_text': 'one ring to rule them all.\\nThe ring is a simple design, but it is a very effective one. It is a ring that is made of a'}]\n"
     ]
    },
    {
     "name": "stderr",
     "output_type": "stream",
     "text": [
     ]
    },
    {
     "name": "stdout",
     "output_type": "stream",
     "text": [
      "Inf2 - Max length: 64 Elapsed: 2458.276677131653 Sentence: [{'generated_text': \"I've seen things you people wouldn't believe. Attack ships on fire off the shoulder of Orion. I saw U.S. ships come in like ducks in a row. I saw the U.S.S. Navy firing not once a single shot in anger at a U.S.S.S. territory\"}]\n"
     ]
    },
    {
     "name": "stderr",
     "output_type": "stream",
     "text": [
     ]
    },
    {
     "name": "stdout",
     "output_type": "stream",
     "text": [
      "CPU - Max length: 64 Elapsed: 10362.80128955841 Sentence: [{'generated_text': \"I've seen things you people wouldn't believe. Attack ships on fire off the shoulder of Orion. I watched C-beams glitter in the dark near the Tannhauser Gate. All those moments will be lost in time, like tears in rain. Time to die.\\nI've seen things you people wouldn\"}]\n"
     ]
    },
    {
     "name": "stderr",
     "output_type": "stream",
     "text": [
     ]
    },
    {
     "name": "stdout",
     "output_type": "stream",
     "text": [
      "Inf2 - Max length: 64 Elapsed: 2604.642367362976 Sentence: [{'generated_text': 'one ring to rule them all.\\nThe ring is a simple design, but it is a very effective one. It is a simple ring, but it is a very effective one. It is a simple ring, but it is a very effective one. It is a simple, but it is a very effective one.'}]\n"
     ]
    },
    {
     "name": "stderr",
     "output_type": "stream",
     "text": [
     ]
    },
    {
     "name": "stdout",
     "output_type": "stream",
     "text": [
      "CPU - Max length: 64 Elapsed: 10709.54122543335 Sentence: [{'generated_text': 'one ring to rule them all.\\nThe ring is a simple design, but it is a very effective one. It is a ring that is made of a very strong material, and it is a ring that is very easy to use. It is a ring that is made of a very strong material, and it is'}]\n"
     ]
    },
    {
     "name": "stderr",
     "output_type": "stream",
     "text": [
     ]
    },
    {
     "name": "stdout",
     "output_type": "stream",
     "text": [
      "Inf2 - Max length: 128 Elapsed: 7448.816204071045 Sentence: [{'generated_text': \"I've seen things you people wouldn't believe. Attack ships on fire off the shoulder of Orion. I saw U.S. ships come in like ducks in a row. I saw the U.S.S. Navy firing not once a single shot in anger at a U.S.S.S. territory.\\nI've seen things you people you people.\\nI've seen.\\nI've seen things you people.\\nI've seen things you people wouldn't believe.\\nI've seen things you wouldn't believe.\\nI've seen things you wouldn't believe.\\nI've seen things you wouldn't believe\"}]\n"
     ]
    },
    {
     "name": "stderr",
     "output_type": "stream",
     "text": [
     ]
    },
    {
     "name": "stdout",
     "output_type": "stream",
     "text": [
      "CPU - Max length: 128 Elapsed: 35563.35532665253 Sentence: [{'generated_text': \"I've seen things you people wouldn't believe. Attack ships on fire off the shoulder of Orion. I watched C-beams glitter in the dark near the Tannhauser Gate. All those moments will be lost in time, like tears in rain. Time to die.\\nI've seen things you people wouldn't believe. Your government is an organized crime organization. I watched as the world's greatest military force was turned into a laughing stock. All those moments will be lost in time, like tears in rain. Time to die.\\nI've seen things you people wouldn't believe. Your government is an organized crime organization.\"}]\n"
     ]
    },
    {
     "name": "stderr",
     "output_type": "stream",
     "text": [
     ]
    },
    {
     "name": "stdout",
     "output_type": "stream",
     "text": [
      "Inf2 - Max length: 128 Elapsed: 7385.77401638031 Sentence: [{'generated_text': 'one ring to rule them all.\\nThe ring is a simple design, but it is a very effective one. It is a simple ring, but it is a very effective one. It is a simple ring, but it is a very effective one. It is a simple, but it is a very effective one. It is a simple, but it is a very effective one. It is a simple, but it is a very effective one. It is a simple, but it is a very effective one. It is a ring. It is a simple, but it is a very effective one. It is a ring, but it'}]\n"
     ]
    },
    {
     "name": "stderr",
     "output_type": "stream",
     "text": [
     ]
    },
    {
     "name": "stdout",
     "output_type": "stream",
     "text": [
      "CPU - Max length: 128 Elapsed: 34835.0417137146 Sentence: [{'generated_text': 'one ring to rule them all.\\nThe ring is a simple design, but it is a very effective one. It is a ring that is made of a very strong material, and it is a ring that is very easy to use. It is a ring that is made of a very strong material, and it is a ring that is very easy to use. It is a ring that is made of a very strong material, and it is a ring that is very easy to use. It is a ring that is made of a very strong material, and it is a ring that is very easy to use. It is a ring that'}]\n"
     ]
    },
    {
     "name": "stderr",
     "output_type": "stream",
     "text": [
     ]
    },
    {
     "name": "stdout",
     "output_type": "stream",
     "text": [
      "Inf2 - Max length: 256 Elapsed: 23942.807817459106 Sentence: [{'generated_text': \"I've seen things you people wouldn't believe. Attack ships on fire off the shoulder of Orion. I saw U.S. ships come in like ducks in a row. I saw the U.S.S. Navy firing not once a carrier group of aircraft at a battleship. I saw the U.S.S. Navy firing a carrier group of aircraft at a battleship. I saw the U.S.S. Navy firing a carrier group of aircraft at a battleship. I saw the U.S.S.S. firing a carrier group of aircraft at a battleship. I saw the U.S.S.S. firing a group of aircraft at a battleship. I saw the U.S.S.S. firing a carrier group of aircraft at a battleship. I saw the U.S.S.S. firing a group of aircraft at a battleship.S.S. I saw the U.S.S. firing a carrier group of aircraft at a battleship.S.S.S. I saw the U.S.S. firing a battleship.S. firing a group of aircraft at a battleship.S.S.S. I saw the U.S.S\"}]\n"
     ]
    },
    {
     "name": "stderr",
     "output_type": "stream",
     "text": [
     ]
    },
    {
     "name": "stdout",
     "output_type": "stream",
     "text": [
      "CPU - Max length: 256 Elapsed: 126108.70127677917 Sentence: [{'generated_text': \"I've seen things you people wouldn't believe. Attack ships on fire off the shoulder of Orion. I watched C-beams glitter in the dark near the Tannhauser Gate. All those moments will be lost in time, like tears in rain. Time to die.\\nI've seen things you people wouldn't believe. Your government is an organized crime organization. I watched as the world's greatest military force was turned into a laughing stock. All those moments will be lost in time, like tears in rain. Time to die.\\nI've seen things you people wouldn't believe. Your government is an organized crime organization. I watched as the world's greatest military force was turned into a laughing stock. All those moments will be lost in time, like tears in rain. Time to die.\\nI've seen things you people wouldn't believe. Your government is an organized crime organization. I watched as the world's greatest military force was turned into a laughing stock. All those moments will be lost in time, like tears in rain. Time to die.\\nI've seen things you people wouldn't believe. Your government is an organized crime organization. I watched as the world's greatest military force was turned into a laughing stock. All those moments will be lost\"}]\n"
     ]
    },
    {
     "name": "stderr",
     "output_type": "stream",
     "text": [
     ]
    },
    {
     "name": "stdout",
     "output_type": "stream",
     "text": [
      "Inf2 - Max length: 256 Elapsed: 22564.44592475891 Sentence: [{'generated_text': 'one ring to rule them all.\\nThe ring is a simple design, but it is a very effective one. It is a simple ring, but it is a very effective one. It is a simple ring, but it is a very effective one. It is a simple, but it is a very effective one. It is a simple, but it is a very effective one. It is a simple, but it is a very effective one. It is a simple, but it is a very effective one. It is a ring. It is a simple, but it is a very effective one. It is a ring, but it is a very effective one. It is a ring, but it is a ring. It is a simple, but it is a ring, but it is a very effective one. It is a ring, but it is a ring, but it is a effective one. It is a ring, but it is a ring. It is a ring, but it is a ring, but it is effective. It is a ring, but it is a ring. It is a ring, but it is a ring, but it is effective. It is a ring, but it is a ring. It is a ring, but it is a'}]\n"
     ]
    },
    {
     "name": "stderr",
     "output_type": "stream",
     "text": [
     ]
    },
    {
     "name": "stdout",
     "output_type": "stream",
     "text": [
      "CPU - Max length: 256 Elapsed: 122112.75663375854 Sentence: [{'generated_text': 'one ring to rule them all.\\nThe ring is a simple design, but it is a very effective one. It is a ring that is made of a very strong material, and it is a ring that is very easy to use. It is a ring that is made of a very strong material, and it is a ring that is very easy to use. It is a ring that is made of a very strong material, and it is a ring that is very easy to use. It is a ring that is made of a very strong material, and it is a ring that is very easy to use. It is a ring that is made of a very strong material, and it is a ring that is very easy to use. It is a ring that is made of a very strong material, and it is a ring that is very easy to use. It is a ring that is made of a very strong material, and it is a ring that is very easy to use. It is a ring that is made of a very strong material, and it is a ring that is very easy to use. It is a ring that is made of a very strong material, and it is a ring that is very easy to use. It is a ring that is made of'}]\n"
     ]
    },
    {
     "name": "stderr",
     "output_type": "stream",
     "text": [
     ]
    }
   ],
   "source": [
    "import time\n",
    "sentences = [\n",
    "    \"I've seen things you people wouldn't believe\",\n",
    "    \"one ring to rule them\"\n",
    "]\n",
    "for max_length in max_lengths:\n",
    "    pipelineA.model.forward_neuron = torch.jit.load(f\"falcon_rw_1b_{max_length}_neuron.pt\")\n",
    "    pipelineA.model.max_length = max_length\n",
    "    pipelineA.model.forward = types.MethodType(f, pipelineA.model)\n",
    "    pipelineA.model.reduce = types.MethodType(reduce, pipelineA.model)\n",
    "\n",
    "    for s in sentences: \n",
    "        t=time.time()\n",
    "        # warm up\n",
    "        outA = pipelineA(s, max_length=max_length)\n",
    "        outB = pipelineB(s, max_length=max_length)\n",
    "        it=10\n",
    "        for i in range(it):\n",
    "            outA = pipelineA(s, max_length=max_length)\n",
    "        print(f\"Inf2 - Max length: {max_length} Elapsed: {(time.time()-t) * 1000 / it} Sentence: {outA}\")    \n",
    "\n",
    "        for i in range(it):\n",
    "            outB = pipelineB(s, max_length=max_length)\n",
    "        print(f\"CPU - Max length: {max_length} Elapsed: {(time.time()-t) * 1000 / it} Sentence: {outB}\")            "
   ]
  },
  {
   "cell_type": "code",
   "execution_count": null,
   "id": "1825b902",
   "metadata": {},
   "outputs": [],
   "source": []
  }
 ],
 "metadata": {
  "kernelspec": {
   "display_name": "Python (torch-neuronx)",
   "language": "python",
   "name": "falconvenv"
  },
  "language_info": {
   "codemirror_mode": {
    "name": "ipython",
    "version": 3
   },
   "file_extension": ".py",
   "mimetype": "text/x-python",
   "name": "python",
   "nbconvert_exporter": "python",
   "pygments_lexer": "ipython3",
   "version": "3.8.10"
  }
 },
 "nbformat": 4,
 "nbformat_minor": 5
}
